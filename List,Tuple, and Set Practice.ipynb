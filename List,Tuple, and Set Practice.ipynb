{
 "cells": [
  {
   "cell_type": "code",
   "execution_count": 1,
   "id": "9d9113f7-d683-471d-b660-6772adad62e0",
   "metadata": {},
   "outputs": [],
   "source": [
    "l = [2,3,4,5,6,'anand',True,False,567.765]"
   ]
  },
  {
   "cell_type": "code",
   "execution_count": 2,
   "id": "0b8193cf-51bc-4ef4-ab4e-1ffca5135ede",
   "metadata": {},
   "outputs": [
    {
     "data": {
      "text/plain": [
       "[2, 3, 4, 5, 6, 'anand', True, False, 567.765]"
      ]
     },
     "execution_count": 2,
     "metadata": {},
     "output_type": "execute_result"
    }
   ],
   "source": [
    "l"
   ]
  },
  {
   "cell_type": "code",
   "execution_count": 3,
   "id": "99afd60c-7370-4f01-82b5-878acae2804d",
   "metadata": {},
   "outputs": [
    {
     "data": {
      "text/plain": [
       "list"
      ]
     },
     "execution_count": 3,
     "metadata": {},
     "output_type": "execute_result"
    }
   ],
   "source": [
    "type(l)"
   ]
  },
  {
   "cell_type": "code",
   "execution_count": 4,
   "id": "31a380f3-4c0e-4509-ad84-0a231df60b20",
   "metadata": {},
   "outputs": [
    {
     "data": {
      "text/plain": [
       "6"
      ]
     },
     "execution_count": 4,
     "metadata": {},
     "output_type": "execute_result"
    }
   ],
   "source": [
    "l[4]"
   ]
  },
  {
   "cell_type": "code",
   "execution_count": 5,
   "id": "e2fa14f6-20c7-4569-a713-30846bc2ceee",
   "metadata": {},
   "outputs": [],
   "source": [
    "l[4]=564"
   ]
  },
  {
   "cell_type": "code",
   "execution_count": 6,
   "id": "b3c32fa1-6fd9-46b3-a9c9-6548ad600aed",
   "metadata": {},
   "outputs": [
    {
     "data": {
      "text/plain": [
       "[2, 3, 4, 5, 564, 'anand', True, False, 567.765]"
      ]
     },
     "execution_count": 6,
     "metadata": {},
     "output_type": "execute_result"
    }
   ],
   "source": [
    "l"
   ]
  },
  {
   "cell_type": "code",
   "execution_count": 7,
   "id": "ecf559f0-ae16-44ab-908f-c9b39fa2539d",
   "metadata": {},
   "outputs": [
    {
     "ename": "IndexError",
     "evalue": "list index out of range",
     "output_type": "error",
     "traceback": [
      "\u001b[0;31m---------------------------------------------------------------------------\u001b[0m",
      "\u001b[0;31mIndexError\u001b[0m                                Traceback (most recent call last)",
      "Cell \u001b[0;32mIn[7], line 1\u001b[0m\n\u001b[0;32m----> 1\u001b[0m \u001b[43ml\u001b[49m\u001b[43m[\u001b[49m\u001b[38;5;241;43m90\u001b[39;49m\u001b[43m]\u001b[49m\n",
      "\u001b[0;31mIndexError\u001b[0m: list index out of range"
     ]
    }
   ],
   "source": [
    "l[90]"
   ]
  },
  {
   "cell_type": "code",
   "execution_count": 10,
   "id": "c631d3ae-7e3f-449c-b2c3-a30ea9c018e2",
   "metadata": {},
   "outputs": [
    {
     "data": {
      "text/plain": [
       "[2, 3, 4, 5]"
      ]
     },
     "execution_count": 10,
     "metadata": {},
     "output_type": "execute_result"
    }
   ],
   "source": [
    "l[0:4]"
   ]
  },
  {
   "cell_type": "code",
   "execution_count": 12,
   "id": "3cb51a35-71f8-471a-806f-0df1a81e05fb",
   "metadata": {},
   "outputs": [
    {
     "data": {
      "text/plain": [
       "[2, 4, 564, True, 567.765]"
      ]
     },
     "execution_count": 12,
     "metadata": {},
     "output_type": "execute_result"
    }
   ],
   "source": [
    "l[0:9:2]"
   ]
  },
  {
   "cell_type": "code",
   "execution_count": 13,
   "id": "537c6c19-b598-4b2f-827d-cb07766d6374",
   "metadata": {},
   "outputs": [
    {
     "data": {
      "text/plain": [
       "567.765"
      ]
     },
     "execution_count": 13,
     "metadata": {},
     "output_type": "execute_result"
    }
   ],
   "source": [
    "l[-1]"
   ]
  },
  {
   "cell_type": "code",
   "execution_count": 14,
   "id": "8c03b030-41d0-4a9f-bb78-fb061d6f2c32",
   "metadata": {},
   "outputs": [
    {
     "data": {
      "text/plain": [
       "[567.765, False, True, 'anand', 564, 5, 4, 3, 2]"
      ]
     },
     "execution_count": 14,
     "metadata": {},
     "output_type": "execute_result"
    }
   ],
   "source": [
    "l[::-1]"
   ]
  },
  {
   "cell_type": "code",
   "execution_count": 15,
   "id": "a233519e-96b3-49f5-9fb5-49f0a27df5fd",
   "metadata": {},
   "outputs": [
    {
     "data": {
      "text/plain": [
       "'anand'"
      ]
     },
     "execution_count": 15,
     "metadata": {},
     "output_type": "execute_result"
    }
   ],
   "source": [
    "l[-4]"
   ]
  },
  {
   "cell_type": "code",
   "execution_count": 19,
   "id": "2ad71d76-a000-444d-8d22-cf4f61182ca4",
   "metadata": {},
   "outputs": [
    {
     "data": {
      "text/plain": [
       "[567.765, 4]"
      ]
     },
     "execution_count": 19,
     "metadata": {},
     "output_type": "execute_result"
    }
   ],
   "source": [
    "l[:0:-6]"
   ]
  },
  {
   "cell_type": "code",
   "execution_count": 21,
   "id": "3d79792f-d447-4e3f-beb3-44d4c4486065",
   "metadata": {},
   "outputs": [
    {
     "data": {
      "text/plain": [
       "[2, 4, 564, True, 567.765]"
      ]
     },
     "execution_count": 21,
     "metadata": {},
     "output_type": "execute_result"
    }
   ],
   "source": [
    "l[::2]"
   ]
  },
  {
   "cell_type": "code",
   "execution_count": 23,
   "id": "0e7c0622-9db4-44b1-8e3b-0f37c8943758",
   "metadata": {},
   "outputs": [
    {
     "data": {
      "text/plain": [
       "[2, 5, True]"
      ]
     },
     "execution_count": 23,
     "metadata": {},
     "output_type": "execute_result"
    }
   ],
   "source": [
    "l[0::3]"
   ]
  },
  {
   "cell_type": "code",
   "execution_count": 24,
   "id": "0b29817c-28f0-4e4c-9889-68d5b35817f6",
   "metadata": {},
   "outputs": [
    {
     "data": {
      "text/plain": [
       "[2, 3, 4, 5, 564, 'anand', True, False, 567.765]"
      ]
     },
     "execution_count": 24,
     "metadata": {},
     "output_type": "execute_result"
    }
   ],
   "source": [
    "l"
   ]
  },
  {
   "cell_type": "code",
   "execution_count": 25,
   "id": "b9d09f45-a3ba-4843-af7d-2501b3c728e8",
   "metadata": {},
   "outputs": [],
   "source": [
    "f = 'pwskills'"
   ]
  },
  {
   "cell_type": "code",
   "execution_count": 26,
   "id": "eb94e323-8834-4598-8760-032b396fd19a",
   "metadata": {},
   "outputs": [
    {
     "ename": "TypeError",
     "evalue": "can only concatenate list (not \"str\") to list",
     "output_type": "error",
     "traceback": [
      "\u001b[0;31m---------------------------------------------------------------------------\u001b[0m",
      "\u001b[0;31mTypeError\u001b[0m                                 Traceback (most recent call last)",
      "Cell \u001b[0;32mIn[26], line 1\u001b[0m\n\u001b[0;32m----> 1\u001b[0m \u001b[43ml\u001b[49m\u001b[43m \u001b[49m\u001b[38;5;241;43m+\u001b[39;49m\u001b[43m \u001b[49m\u001b[43mf\u001b[49m\n",
      "\u001b[0;31mTypeError\u001b[0m: can only concatenate list (not \"str\") to list"
     ]
    }
   ],
   "source": [
    "l + f"
   ]
  },
  {
   "cell_type": "code",
   "execution_count": 27,
   "id": "3756fc70-2004-4d5c-be2c-8e6f142e6bf7",
   "metadata": {},
   "outputs": [
    {
     "ename": "TypeError",
     "evalue": "can only concatenate list (not \"str\") to list",
     "output_type": "error",
     "traceback": [
      "\u001b[0;31m---------------------------------------------------------------------------\u001b[0m",
      "\u001b[0;31mTypeError\u001b[0m                                 Traceback (most recent call last)",
      "Cell \u001b[0;32mIn[27], line 1\u001b[0m\n\u001b[0;32m----> 1\u001b[0m \u001b[43ml\u001b[49m\u001b[43m \u001b[49m\u001b[38;5;241;43m+\u001b[39;49m\u001b[43m \u001b[49m\u001b[38;5;124;43m'\u001b[39;49m\u001b[38;5;124;43mf\u001b[39;49m\u001b[38;5;124;43m'\u001b[39;49m\n",
      "\u001b[0;31mTypeError\u001b[0m: can only concatenate list (not \"str\") to list"
     ]
    }
   ],
   "source": [
    "l + 'f'"
   ]
  },
  {
   "cell_type": "code",
   "execution_count": 28,
   "id": "3af484a6-310a-4ccf-a8ee-a093b7637f91",
   "metadata": {},
   "outputs": [
    {
     "data": {
      "text/plain": [
       "['p', 'w', 's', 'k', 'i', 'l', 'l', 's']"
      ]
     },
     "execution_count": 28,
     "metadata": {},
     "output_type": "execute_result"
    }
   ],
   "source": [
    "list(f)"
   ]
  },
  {
   "cell_type": "code",
   "execution_count": 29,
   "id": "2cfb44cc-91d0-4c8e-96ab-99c6ff1f4064",
   "metadata": {},
   "outputs": [
    {
     "data": {
      "text/plain": [
       "'s'"
      ]
     },
     "execution_count": 29,
     "metadata": {},
     "output_type": "execute_result"
    }
   ],
   "source": [
    "f[2]"
   ]
  },
  {
   "cell_type": "code",
   "execution_count": 30,
   "id": "e53a5597-3bad-4045-aa62-868f04b80c09",
   "metadata": {},
   "outputs": [
    {
     "data": {
      "text/plain": [
       "['p',\n",
       " 'w',\n",
       " 's',\n",
       " 'k',\n",
       " 'i',\n",
       " 'l',\n",
       " 'l',\n",
       " 's',\n",
       " 2,\n",
       " 3,\n",
       " 4,\n",
       " 5,\n",
       " 564,\n",
       " 'anand',\n",
       " True,\n",
       " False,\n",
       " 567.765]"
      ]
     },
     "execution_count": 30,
     "metadata": {},
     "output_type": "execute_result"
    }
   ],
   "source": [
    "list(f) + l"
   ]
  },
  {
   "cell_type": "code",
   "execution_count": 31,
   "id": "d183bdaf-4845-47e8-af38-8b091fc79b48",
   "metadata": {},
   "outputs": [
    {
     "data": {
      "text/plain": [
       "[2, 3, 4, 5, 564, 'anand', True, False, 567.765]"
      ]
     },
     "execution_count": 31,
     "metadata": {},
     "output_type": "execute_result"
    }
   ],
   "source": [
    "l"
   ]
  },
  {
   "cell_type": "code",
   "execution_count": 32,
   "id": "6342447f-9c88-46a1-b1d0-d19d6321bacb",
   "metadata": {},
   "outputs": [
    {
     "data": {
      "text/plain": [
       "'anand'"
      ]
     },
     "execution_count": 32,
     "metadata": {},
     "output_type": "execute_result"
    }
   ],
   "source": [
    "l[5]"
   ]
  },
  {
   "cell_type": "code",
   "execution_count": 33,
   "id": "330f8715-67ba-4726-a3a2-35229e5ff48d",
   "metadata": {},
   "outputs": [
    {
     "data": {
      "text/plain": [
       "str"
      ]
     },
     "execution_count": 33,
     "metadata": {},
     "output_type": "execute_result"
    }
   ],
   "source": [
    "type(l[5])"
   ]
  },
  {
   "cell_type": "code",
   "execution_count": 34,
   "id": "1202f9cf-b98a-412f-b82d-dc780ae423e2",
   "metadata": {},
   "outputs": [
    {
     "data": {
      "text/plain": [
       "'ana'"
      ]
     },
     "execution_count": 34,
     "metadata": {},
     "output_type": "execute_result"
    }
   ],
   "source": [
    "l[5][0:3]"
   ]
  },
  {
   "cell_type": "code",
   "execution_count": 36,
   "id": "bd1dd47e-62f0-46f8-b2e1-bf768199857b",
   "metadata": {},
   "outputs": [
    {
     "data": {
      "text/plain": [
       "True"
      ]
     },
     "execution_count": 36,
     "metadata": {},
     "output_type": "execute_result"
    }
   ],
   "source": [
    "l[6]"
   ]
  },
  {
   "cell_type": "code",
   "execution_count": 38,
   "id": "ee88b997-5f2a-48f2-8087-79e5cee4cb13",
   "metadata": {},
   "outputs": [
    {
     "data": {
      "text/plain": [
       "'Tr'"
      ]
     },
     "execution_count": 38,
     "metadata": {},
     "output_type": "execute_result"
    }
   ],
   "source": [
    "str(l[6])[0:2]"
   ]
  },
  {
   "cell_type": "code",
   "execution_count": 39,
   "id": "8d129b5f-692b-4e0d-9557-14e4a6d2af8c",
   "metadata": {},
   "outputs": [
    {
     "data": {
      "text/plain": [
       "[2, 3, 4, 5, 564, 'anand', True, False, 567.765]"
      ]
     },
     "execution_count": 39,
     "metadata": {},
     "output_type": "execute_result"
    }
   ],
   "source": [
    "l"
   ]
  },
  {
   "cell_type": "code",
   "execution_count": 40,
   "id": "59037350-213e-4dad-88e8-73246310070d",
   "metadata": {},
   "outputs": [
    {
     "ename": "TypeError",
     "evalue": "can only concatenate list (not \"int\") to list",
     "output_type": "error",
     "traceback": [
      "\u001b[0;31m---------------------------------------------------------------------------\u001b[0m",
      "\u001b[0;31mTypeError\u001b[0m                                 Traceback (most recent call last)",
      "Cell \u001b[0;32mIn[40], line 1\u001b[0m\n\u001b[0;32m----> 1\u001b[0m \u001b[43ml\u001b[49m\u001b[43m \u001b[49m\u001b[38;5;241;43m+\u001b[39;49m\u001b[43m \u001b[49m\u001b[38;5;241;43m5\u001b[39;49m\n",
      "\u001b[0;31mTypeError\u001b[0m: can only concatenate list (not \"int\") to list"
     ]
    }
   ],
   "source": [
    "l + 5"
   ]
  },
  {
   "cell_type": "code",
   "execution_count": 41,
   "id": "7f1ca47f-f843-433e-8d47-b34725ec4515",
   "metadata": {},
   "outputs": [
    {
     "ename": "TypeError",
     "evalue": "can only concatenate list (not \"str\") to list",
     "output_type": "error",
     "traceback": [
      "\u001b[0;31m---------------------------------------------------------------------------\u001b[0m",
      "\u001b[0;31mTypeError\u001b[0m                                 Traceback (most recent call last)",
      "Cell \u001b[0;32mIn[41], line 1\u001b[0m\n\u001b[0;32m----> 1\u001b[0m \u001b[43ml\u001b[49m\u001b[43m \u001b[49m\u001b[38;5;241;43m+\u001b[39;49m\u001b[43m \u001b[49m\u001b[38;5;124;43m'\u001b[39;49m\u001b[38;5;124;43m5\u001b[39;49m\u001b[38;5;124;43m'\u001b[39;49m\n",
      "\u001b[0;31mTypeError\u001b[0m: can only concatenate list (not \"str\") to list"
     ]
    }
   ],
   "source": [
    "l + "
   ]
  },
  {
   "cell_type": "code",
   "execution_count": 44,
   "id": "e93c85c0-426b-4aae-aff7-7006add211cf",
   "metadata": {},
   "outputs": [],
   "source": [
    "l1 = [24,35,40]"
   ]
  },
  {
   "cell_type": "code",
   "execution_count": 45,
   "id": "dad6774e-6e21-416e-b94b-2852d7c35c1e",
   "metadata": {},
   "outputs": [
    {
     "data": {
      "text/plain": [
       "[2, 3, 4, 5, 564, 'anand', True, False, 567.765, 24, 35, 40]"
      ]
     },
     "execution_count": 45,
     "metadata": {},
     "output_type": "execute_result"
    }
   ],
   "source": [
    "l + l1"
   ]
  },
  {
   "cell_type": "code",
   "execution_count": 46,
   "id": "14bcd96a-6da9-49a5-a07c-2afe50c11ee4",
   "metadata": {},
   "outputs": [
    {
     "data": {
      "text/plain": [
       "[24, 35, 40, 24, 35, 40, 24, 35, 40]"
      ]
     },
     "execution_count": 46,
     "metadata": {},
     "output_type": "execute_result"
    }
   ],
   "source": [
    "l1 * 3"
   ]
  },
  {
   "cell_type": "code",
   "execution_count": 47,
   "id": "1df6df85-9b25-4c8e-8795-b74b42b12574",
   "metadata": {},
   "outputs": [
    {
     "data": {
      "text/plain": [
       "[2, 3, 4, 5, 564, 'anand', True, False, 567.765]"
      ]
     },
     "execution_count": 47,
     "metadata": {},
     "output_type": "execute_result"
    }
   ],
   "source": [
    "l"
   ]
  },
  {
   "cell_type": "code",
   "execution_count": 48,
   "id": "cd8f8154-68c5-42b5-9fa8-9bab4a6ac950",
   "metadata": {},
   "outputs": [
    {
     "data": {
      "text/plain": [
       "9"
      ]
     },
     "execution_count": 48,
     "metadata": {},
     "output_type": "execute_result"
    }
   ],
   "source": [
    "len(l)"
   ]
  },
  {
   "cell_type": "code",
   "execution_count": 50,
   "id": "4b76e9b8-d671-43fb-8f87-d8b7c92a5a04",
   "metadata": {},
   "outputs": [
    {
     "data": {
      "text/plain": [
       "[2, 3, 4, 5, 564, 'anand', True, False, 567.765]"
      ]
     },
     "execution_count": 50,
     "metadata": {},
     "output_type": "execute_result"
    }
   ],
   "source": [
    "l"
   ]
  },
  {
   "cell_type": "code",
   "execution_count": 60,
   "id": "0ce7ed02-3fc0-45b5-b113-36740fabc1f8",
   "metadata": {},
   "outputs": [],
   "source": [
    "l.append(67)"
   ]
  },
  {
   "cell_type": "code",
   "execution_count": 52,
   "id": "1eaf10d9-7388-48d3-b294-8ac9e319881a",
   "metadata": {},
   "outputs": [
    {
     "data": {
      "text/plain": [
       "[2, 3, 4, 5, 564, 'anand', True, False, 567.765, 67]"
      ]
     },
     "execution_count": 52,
     "metadata": {},
     "output_type": "execute_result"
    }
   ],
   "source": [
    "l"
   ]
  },
  {
   "cell_type": "code",
   "execution_count": 58,
   "id": "42002a66-d8b4-419d-97b5-ca93e66f1b75",
   "metadata": {},
   "outputs": [],
   "source": [
    "l.insert(9,87)"
   ]
  },
  {
   "cell_type": "code",
   "execution_count": 59,
   "id": "bc677d61-057e-4bc4-93d1-052025813289",
   "metadata": {},
   "outputs": [
    {
     "data": {
      "text/plain": [
       "[2, 3, 4, 5, 564, 'anand', True, False, 567.765, 87, 87, 67, 67]"
      ]
     },
     "execution_count": 59,
     "metadata": {},
     "output_type": "execute_result"
    }
   ],
   "source": [
    "l"
   ]
  },
  {
   "cell_type": "code",
   "execution_count": 61,
   "id": "a82e4653-ea65-4a8c-847b-b9f81ec8d9b4",
   "metadata": {},
   "outputs": [],
   "source": [
    "l.append(l1)"
   ]
  },
  {
   "cell_type": "code",
   "execution_count": 63,
   "id": "8ddfc95e-989d-4169-afbe-80db45f916c4",
   "metadata": {},
   "outputs": [
    {
     "data": {
      "text/plain": [
       "[2,\n",
       " 3,\n",
       " 4,\n",
       " 5,\n",
       " 564,\n",
       " 'anand',\n",
       " True,\n",
       " False,\n",
       " 567.765,\n",
       " 87,\n",
       " 87,\n",
       " 67,\n",
       " 67,\n",
       " 67,\n",
       " [24, 35, 40]]"
      ]
     },
     "execution_count": 63,
     "metadata": {},
     "output_type": "execute_result"
    }
   ],
   "source": [
    "l"
   ]
  },
  {
   "cell_type": "code",
   "execution_count": 66,
   "id": "a1356b15-1244-44ee-bfd1-400dfb57054a",
   "metadata": {},
   "outputs": [
    {
     "data": {
      "text/plain": [
       "35"
      ]
     },
     "execution_count": 66,
     "metadata": {},
     "output_type": "execute_result"
    }
   ],
   "source": [
    "l[-1][1]"
   ]
  },
  {
   "cell_type": "code",
   "execution_count": 67,
   "id": "6f42e03e-9250-4f64-ab00-f9fa76c90d28",
   "metadata": {},
   "outputs": [
    {
     "data": {
      "text/plain": [
       "[2,\n",
       " 3,\n",
       " 4,\n",
       " 5,\n",
       " 564,\n",
       " 'anand',\n",
       " True,\n",
       " False,\n",
       " 567.765,\n",
       " 87,\n",
       " 87,\n",
       " 67,\n",
       " 67,\n",
       " 67,\n",
       " [24, 35, 40]]"
      ]
     },
     "execution_count": 67,
     "metadata": {},
     "output_type": "execute_result"
    }
   ],
   "source": [
    "l"
   ]
  },
  {
   "cell_type": "code",
   "execution_count": 68,
   "id": "2c64b94f-81fd-4f63-b4f8-94a48a1a71a7",
   "metadata": {},
   "outputs": [],
   "source": [
    "a = [1,2,3,4+5j,True,False,4.5,'anand']"
   ]
  },
  {
   "cell_type": "code",
   "execution_count": 69,
   "id": "74774e9a-3fa4-46db-a801-ad292aebdfbd",
   "metadata": {},
   "outputs": [
    {
     "data": {
      "text/plain": [
       "[1, 2, 3, (4+5j), True, False, 4.5, 'anand']"
      ]
     },
     "execution_count": 69,
     "metadata": {},
     "output_type": "execute_result"
    }
   ],
   "source": [
    "a"
   ]
  },
  {
   "cell_type": "code",
   "execution_count": 70,
   "id": "673e7662-d10e-41ff-9180-495dbf3372dd",
   "metadata": {},
   "outputs": [
    {
     "data": {
      "text/plain": [
       "list"
      ]
     },
     "execution_count": 70,
     "metadata": {},
     "output_type": "execute_result"
    }
   ],
   "source": [
    "type(a)"
   ]
  },
  {
   "cell_type": "code",
   "execution_count": 71,
   "id": "5319de96-e73b-4ad0-87d5-627e98b287c1",
   "metadata": {},
   "outputs": [
    {
     "ename": "TypeError",
     "evalue": "'int' object is not iterable",
     "output_type": "error",
     "traceback": [
      "\u001b[0;31m---------------------------------------------------------------------------\u001b[0m",
      "\u001b[0;31mTypeError\u001b[0m                                 Traceback (most recent call last)",
      "Cell \u001b[0;32mIn[71], line 1\u001b[0m\n\u001b[0;32m----> 1\u001b[0m \u001b[43ma\u001b[49m\u001b[38;5;241;43m.\u001b[39;49m\u001b[43mextend\u001b[49m\u001b[43m(\u001b[49m\u001b[38;5;241;43m5\u001b[39;49m\u001b[43m)\u001b[49m\n",
      "\u001b[0;31mTypeError\u001b[0m: 'int' object is not iterable"
     ]
    }
   ],
   "source": [
    "a.extend(5)"
   ]
  },
  {
   "cell_type": "code",
   "execution_count": 72,
   "id": "b4e59569-f90b-4867-939c-7a732c13a39a",
   "metadata": {},
   "outputs": [],
   "source": [
    "a.extend('pwskills')"
   ]
  },
  {
   "cell_type": "code",
   "execution_count": 73,
   "id": "a19d1b83-74fd-4933-803d-20f6860a2edf",
   "metadata": {},
   "outputs": [
    {
     "data": {
      "text/plain": [
       "[1,\n",
       " 2,\n",
       " 3,\n",
       " (4+5j),\n",
       " True,\n",
       " False,\n",
       " 4.5,\n",
       " 'anand',\n",
       " 'p',\n",
       " 'w',\n",
       " 's',\n",
       " 'k',\n",
       " 'i',\n",
       " 'l',\n",
       " 'l',\n",
       " 's']"
      ]
     },
     "execution_count": 73,
     "metadata": {},
     "output_type": "execute_result"
    }
   ],
   "source": [
    "a"
   ]
  },
  {
   "cell_type": "code",
   "execution_count": 75,
   "id": "e3eb16b5-3846-4233-972b-2f10b63e4764",
   "metadata": {},
   "outputs": [],
   "source": [
    "a.extend([3,4,5])"
   ]
  },
  {
   "cell_type": "code",
   "execution_count": 76,
   "id": "3dcdf4b0-4952-443f-9027-b2431822d2e4",
   "metadata": {},
   "outputs": [
    {
     "data": {
      "text/plain": [
       "[1,\n",
       " 2,\n",
       " 3,\n",
       " (4+5j),\n",
       " True,\n",
       " False,\n",
       " 4.5,\n",
       " 'anand',\n",
       " 'p',\n",
       " 'w',\n",
       " 's',\n",
       " 'k',\n",
       " 'i',\n",
       " 'l',\n",
       " 'l',\n",
       " 's',\n",
       " 3,\n",
       " 4,\n",
       " 5]"
      ]
     },
     "execution_count": 76,
     "metadata": {},
     "output_type": "execute_result"
    }
   ],
   "source": [
    "a"
   ]
  },
  {
   "cell_type": "code",
   "execution_count": 79,
   "id": "84962143-e4f0-446c-b795-bd2a2f4b519d",
   "metadata": {},
   "outputs": [],
   "source": [
    "a1 = [34,45,66]"
   ]
  },
  {
   "cell_type": "code",
   "execution_count": 80,
   "id": "0519cd84-ccd4-4fb2-be23-47e74dd8fb74",
   "metadata": {},
   "outputs": [
    {
     "data": {
      "text/plain": [
       "[34, 45, 66]"
      ]
     },
     "execution_count": 80,
     "metadata": {},
     "output_type": "execute_result"
    }
   ],
   "source": [
    "a1"
   ]
  },
  {
   "cell_type": "code",
   "execution_count": 83,
   "id": "55295641-4705-4349-abb9-b298eebe96d0",
   "metadata": {},
   "outputs": [],
   "source": [
    "a1.insert(1,'anand')"
   ]
  },
  {
   "cell_type": "code",
   "execution_count": 84,
   "id": "e1cb469a-17f5-4484-86cd-deb4d6a0eec1",
   "metadata": {},
   "outputs": [
    {
     "data": {
      "text/plain": [
       "[34, 'anand', 'anand', 45, 66]"
      ]
     },
     "execution_count": 84,
     "metadata": {},
     "output_type": "execute_result"
    }
   ],
   "source": [
    "a1"
   ]
  },
  {
   "cell_type": "code",
   "execution_count": 85,
   "id": "9be58a89-6b4e-44a6-9680-f776bdc84e6c",
   "metadata": {},
   "outputs": [],
   "source": [
    "a1.insert(0,'annu')"
   ]
  },
  {
   "cell_type": "code",
   "execution_count": 86,
   "id": "8c357588-5af5-4d6f-b882-6bd6d512cffd",
   "metadata": {},
   "outputs": [
    {
     "data": {
      "text/plain": [
       "['annu', 34, 'anand', 'anand', 45, 66]"
      ]
     },
     "execution_count": 86,
     "metadata": {},
     "output_type": "execute_result"
    }
   ],
   "source": [
    "a1"
   ]
  },
  {
   "cell_type": "code",
   "execution_count": 87,
   "id": "db09164d-38ad-4de6-a8e0-cf3ad94d8a60",
   "metadata": {},
   "outputs": [],
   "source": [
    "a1.insert(3,[2,3,4])"
   ]
  },
  {
   "cell_type": "code",
   "execution_count": 88,
   "id": "a7183467-54ed-4a03-976b-6fdf57203458",
   "metadata": {},
   "outputs": [
    {
     "data": {
      "text/plain": [
       "['annu', 34, 'anand', [2, 3, 4], 'anand', 45, 66]"
      ]
     },
     "execution_count": 88,
     "metadata": {},
     "output_type": "execute_result"
    }
   ],
   "source": [
    "a1"
   ]
  },
  {
   "cell_type": "code",
   "execution_count": 90,
   "id": "07269dc8-1983-4e44-a791-43207ec0b3dd",
   "metadata": {},
   "outputs": [],
   "source": [
    "a1.insert(-1,67)"
   ]
  },
  {
   "cell_type": "code",
   "execution_count": 91,
   "id": "fb5db35f-39e4-461c-b655-3f5c8513cb3b",
   "metadata": {},
   "outputs": [
    {
     "data": {
      "text/plain": [
       "['annu', 34, 'anand', [2, 3, 4], 'anand', 45, 67, 66]"
      ]
     },
     "execution_count": 91,
     "metadata": {},
     "output_type": "execute_result"
    }
   ],
   "source": [
    "a1"
   ]
  },
  {
   "cell_type": "code",
   "execution_count": 92,
   "id": "9c43c292-ffaf-4e5e-8480-3fe347181600",
   "metadata": {},
   "outputs": [
    {
     "data": {
      "text/plain": [
       "66"
      ]
     },
     "execution_count": 92,
     "metadata": {},
     "output_type": "execute_result"
    }
   ],
   "source": [
    "a1.pop()"
   ]
  },
  {
   "cell_type": "code",
   "execution_count": 93,
   "id": "2c927dcc-bfe3-4ce4-bf73-9b8827dde19d",
   "metadata": {},
   "outputs": [
    {
     "data": {
      "text/plain": [
       "['annu', 34, 'anand', [2, 3, 4], 'anand', 45, 67]"
      ]
     },
     "execution_count": 93,
     "metadata": {},
     "output_type": "execute_result"
    }
   ],
   "source": [
    "a1"
   ]
  },
  {
   "cell_type": "code",
   "execution_count": 94,
   "id": "7a75fcd5-03b1-40fb-a4e8-796a0dca8be6",
   "metadata": {},
   "outputs": [
    {
     "data": {
      "text/plain": [
       "67"
      ]
     },
     "execution_count": 94,
     "metadata": {},
     "output_type": "execute_result"
    }
   ],
   "source": [
    "a1.pop()"
   ]
  },
  {
   "cell_type": "code",
   "execution_count": 95,
   "id": "fb321229-45b7-411a-bbac-2317c4e29f8b",
   "metadata": {},
   "outputs": [
    {
     "data": {
      "text/plain": [
       "['annu', 34, 'anand', [2, 3, 4], 'anand', 45]"
      ]
     },
     "execution_count": 95,
     "metadata": {},
     "output_type": "execute_result"
    }
   ],
   "source": [
    "a1"
   ]
  },
  {
   "cell_type": "code",
   "execution_count": 96,
   "id": "80cc5a1d-700b-4b59-8311-e5a4484c1e9b",
   "metadata": {},
   "outputs": [
    {
     "data": {
      "text/plain": [
       "'anand'"
      ]
     },
     "execution_count": 96,
     "metadata": {},
     "output_type": "execute_result"
    }
   ],
   "source": [
    "a1.pop(2)"
   ]
  },
  {
   "cell_type": "code",
   "execution_count": 97,
   "id": "df67c2fa-ad32-45af-ba04-ed4ea80fc042",
   "metadata": {},
   "outputs": [
    {
     "data": {
      "text/plain": [
       "['annu', 34, [2, 3, 4], 'anand', 45]"
      ]
     },
     "execution_count": 97,
     "metadata": {},
     "output_type": "execute_result"
    }
   ],
   "source": [
    "a1"
   ]
  },
  {
   "cell_type": "code",
   "execution_count": 98,
   "id": "fe4866b1-7913-4724-8a20-f2e7987889f9",
   "metadata": {},
   "outputs": [
    {
     "data": {
      "text/plain": [
       "'annu'"
      ]
     },
     "execution_count": 98,
     "metadata": {},
     "output_type": "execute_result"
    }
   ],
   "source": [
    "a1.pop(0)"
   ]
  },
  {
   "cell_type": "code",
   "execution_count": 99,
   "id": "1d7fc11f-5ed5-4c39-80a0-ac2b2eeb4604",
   "metadata": {},
   "outputs": [
    {
     "data": {
      "text/plain": [
       "[34, [2, 3, 4], 'anand', 45]"
      ]
     },
     "execution_count": 99,
     "metadata": {},
     "output_type": "execute_result"
    }
   ],
   "source": [
    "a1"
   ]
  },
  {
   "cell_type": "code",
   "execution_count": 100,
   "id": "2e81cd41-82f6-449c-9c18-3824e6948c17",
   "metadata": {},
   "outputs": [],
   "source": [
    "a1.remove([2,3,4])"
   ]
  },
  {
   "cell_type": "code",
   "execution_count": 101,
   "id": "37ab4219-86f3-4186-90c0-8e979bd735c6",
   "metadata": {},
   "outputs": [
    {
     "data": {
      "text/plain": [
       "[34, 'anand', 45]"
      ]
     },
     "execution_count": 101,
     "metadata": {},
     "output_type": "execute_result"
    }
   ],
   "source": [
    "a1"
   ]
  },
  {
   "cell_type": "code",
   "execution_count": 102,
   "id": "85d6de96-d67a-4cc4-a50c-5df60c4d4396",
   "metadata": {},
   "outputs": [
    {
     "ename": "ValueError",
     "evalue": "list.remove(x): x not in list",
     "output_type": "error",
     "traceback": [
      "\u001b[0;31m---------------------------------------------------------------------------\u001b[0m",
      "\u001b[0;31mValueError\u001b[0m                                Traceback (most recent call last)",
      "Cell \u001b[0;32mIn[102], line 1\u001b[0m\n\u001b[0;32m----> 1\u001b[0m \u001b[43ma1\u001b[49m\u001b[38;5;241;43m.\u001b[39;49m\u001b[43mremove\u001b[49m\u001b[43m(\u001b[49m\u001b[38;5;241;43m43\u001b[39;49m\u001b[43m)\u001b[49m\n",
      "\u001b[0;31mValueError\u001b[0m: list.remove(x): x not in list"
     ]
    }
   ],
   "source": [
    "a1.remove(43)"
   ]
  },
  {
   "cell_type": "code",
   "execution_count": 107,
   "id": "a0b3160b-a048-4471-997e-8ccd36ba5132",
   "metadata": {},
   "outputs": [],
   "source": [
    "a1[2]=[45,67,87]"
   ]
  },
  {
   "cell_type": "code",
   "execution_count": 108,
   "id": "02bc4759-c6e3-4a1c-a2f3-8505a7894433",
   "metadata": {},
   "outputs": [
    {
     "data": {
      "text/plain": [
       "[34, 'anand', [45, 67, 87]]"
      ]
     },
     "execution_count": 108,
     "metadata": {},
     "output_type": "execute_result"
    }
   ],
   "source": [
    "a1"
   ]
  },
  {
   "cell_type": "code",
   "execution_count": 109,
   "id": "2b2a5dd9-6bc4-4fb6-9f36-a178ed9a8bf3",
   "metadata": {},
   "outputs": [],
   "source": [
    "a1[2].remove(67)"
   ]
  },
  {
   "cell_type": "code",
   "execution_count": 110,
   "id": "d0b31619-3bca-4919-97af-36db1f0d6a74",
   "metadata": {},
   "outputs": [
    {
     "data": {
      "text/plain": [
       "[34, 'anand', [45, 87]]"
      ]
     },
     "execution_count": 110,
     "metadata": {},
     "output_type": "execute_result"
    }
   ],
   "source": [
    "a1"
   ]
  },
  {
   "cell_type": "code",
   "execution_count": 112,
   "id": "70d1554d-8b50-4a42-9d48-7258ba99bb3c",
   "metadata": {},
   "outputs": [
    {
     "data": {
      "text/plain": [
       "[24, 35, 40]"
      ]
     },
     "execution_count": 112,
     "metadata": {},
     "output_type": "execute_result"
    }
   ],
   "source": [
    "l1"
   ]
  },
  {
   "cell_type": "code",
   "execution_count": 113,
   "id": "a4a4a60e-c441-4082-bf1b-0e27e7fd2e9f",
   "metadata": {},
   "outputs": [
    {
     "data": {
      "text/plain": [
       "[34, 'anand', [45, 87]]"
      ]
     },
     "execution_count": 113,
     "metadata": {},
     "output_type": "execute_result"
    }
   ],
   "source": [
    "a1"
   ]
  },
  {
   "cell_type": "code",
   "execution_count": 114,
   "id": "7da3eed8-b038-4e79-be12-713b422e3400",
   "metadata": {},
   "outputs": [
    {
     "data": {
      "text/plain": [
       "[[45, 87], 'anand', 34]"
      ]
     },
     "execution_count": 114,
     "metadata": {},
     "output_type": "execute_result"
    }
   ],
   "source": [
    "a1[::-1]"
   ]
  },
  {
   "cell_type": "code",
   "execution_count": 115,
   "id": "70864051-763b-4240-9acc-27410207f20d",
   "metadata": {},
   "outputs": [],
   "source": [
    "a1.reverse()"
   ]
  },
  {
   "cell_type": "code",
   "execution_count": 116,
   "id": "27f5c922-5328-41b6-93d5-d3cdb4108af6",
   "metadata": {},
   "outputs": [
    {
     "data": {
      "text/plain": [
       "[[45, 87], 'anand', 34]"
      ]
     },
     "execution_count": 116,
     "metadata": {},
     "output_type": "execute_result"
    }
   ],
   "source": [
    "a1"
   ]
  },
  {
   "cell_type": "code",
   "execution_count": 117,
   "id": "9441aa32-5790-4fb7-9397-8b714e74c7f9",
   "metadata": {},
   "outputs": [
    {
     "data": {
      "text/plain": [
       "[[45, 87], 'anand', 34]"
      ]
     },
     "execution_count": 117,
     "metadata": {},
     "output_type": "execute_result"
    }
   ],
   "source": [
    "a1"
   ]
  },
  {
   "cell_type": "code",
   "execution_count": 118,
   "id": "854d9c45-e42e-4f75-aff2-8d9dfed8fca2",
   "metadata": {},
   "outputs": [],
   "source": [
    "a1=a1[::-1]"
   ]
  },
  {
   "cell_type": "code",
   "execution_count": 119,
   "id": "d18969ca-bd2c-4b2f-bd17-1c88628247d4",
   "metadata": {},
   "outputs": [
    {
     "data": {
      "text/plain": [
       "[34, 'anand', [45, 87]]"
      ]
     },
     "execution_count": 119,
     "metadata": {},
     "output_type": "execute_result"
    }
   ],
   "source": [
    "a1"
   ]
  },
  {
   "cell_type": "code",
   "execution_count": 120,
   "id": "8807258f-0282-4cde-9b90-9ccfced54ba6",
   "metadata": {},
   "outputs": [
    {
     "ename": "TypeError",
     "evalue": "'<' not supported between instances of 'str' and 'int'",
     "output_type": "error",
     "traceback": [
      "\u001b[0;31m---------------------------------------------------------------------------\u001b[0m",
      "\u001b[0;31mTypeError\u001b[0m                                 Traceback (most recent call last)",
      "Cell \u001b[0;32mIn[120], line 1\u001b[0m\n\u001b[0;32m----> 1\u001b[0m \u001b[43ma1\u001b[49m\u001b[38;5;241;43m.\u001b[39;49m\u001b[43msort\u001b[49m\u001b[43m(\u001b[49m\u001b[43m)\u001b[49m\n",
      "\u001b[0;31mTypeError\u001b[0m: '<' not supported between instances of 'str' and 'int'"
     ]
    }
   ],
   "source": [
    "a1.sort()"
   ]
  },
  {
   "cell_type": "code",
   "execution_count": 122,
   "id": "8570b0e7-7aa7-4eeb-8165-3620a27dcc94",
   "metadata": {},
   "outputs": [],
   "source": [
    "a2=[12,65,34,46,27,99,90,54]"
   ]
  },
  {
   "cell_type": "code",
   "execution_count": 123,
   "id": "7e4a6aa9-85ec-498e-8b14-787a68d3ba5d",
   "metadata": {},
   "outputs": [],
   "source": [
    "a2.sort()"
   ]
  },
  {
   "cell_type": "code",
   "execution_count": 124,
   "id": "c33b7ec3-b12f-4b47-b27d-d0612ae5e6c3",
   "metadata": {},
   "outputs": [
    {
     "data": {
      "text/plain": [
       "[12, 27, 34, 46, 54, 65, 90, 99]"
      ]
     },
     "execution_count": 124,
     "metadata": {},
     "output_type": "execute_result"
    }
   ],
   "source": [
    "a2"
   ]
  },
  {
   "cell_type": "code",
   "execution_count": 127,
   "id": "f9b9ac9a-8e5c-4c5f-8433-4efaf06c652f",
   "metadata": {},
   "outputs": [],
   "source": [
    "a3 = [23,'anand',67,12,'annu',8]"
   ]
  },
  {
   "cell_type": "code",
   "execution_count": 128,
   "id": "ddbd15aa-d4d3-452c-8649-3735221a7944",
   "metadata": {},
   "outputs": [
    {
     "ename": "AttributeError",
     "evalue": "'list' object has no attribute 'sprt'",
     "output_type": "error",
     "traceback": [
      "\u001b[0;31m---------------------------------------------------------------------------\u001b[0m",
      "\u001b[0;31mAttributeError\u001b[0m                            Traceback (most recent call last)",
      "Cell \u001b[0;32mIn[128], line 1\u001b[0m\n\u001b[0;32m----> 1\u001b[0m \u001b[43ma3\u001b[49m\u001b[38;5;241;43m.\u001b[39;49m\u001b[43msprt\u001b[49m()\n",
      "\u001b[0;31mAttributeError\u001b[0m: 'list' object has no attribute 'sprt'"
     ]
    }
   ],
   "source": [
    "a3.sprt()"
   ]
  },
  {
   "cell_type": "code",
   "execution_count": 129,
   "id": "287ca5b8-f988-497b-8e0e-b1fb3bd66a97",
   "metadata": {},
   "outputs": [],
   "source": [
    "a4 = ['anand','jacker','ayush','himanshu']"
   ]
  },
  {
   "cell_type": "code",
   "execution_count": 135,
   "id": "97682c28-5234-424e-b9e6-6ef9777c6062",
   "metadata": {},
   "outputs": [],
   "source": [
    "a4.sort()"
   ]
  },
  {
   "cell_type": "code",
   "execution_count": 136,
   "id": "eead3eb8-a0a8-4ffb-b52c-b69c73e67729",
   "metadata": {},
   "outputs": [
    {
     "data": {
      "text/plain": [
       "['anand', 'ayush', 'himanshu', 'jacker']"
      ]
     },
     "execution_count": 136,
     "metadata": {},
     "output_type": "execute_result"
    }
   ],
   "source": [
    "a4"
   ]
  },
  {
   "cell_type": "code",
   "execution_count": 137,
   "id": "fda9ac06-482a-446a-a424-d5c393115a73",
   "metadata": {},
   "outputs": [],
   "source": [
    "a4.sort(reverse=True)"
   ]
  },
  {
   "cell_type": "code",
   "execution_count": 138,
   "id": "17a561ea-f31e-486d-99d6-82cf6b7e9619",
   "metadata": {},
   "outputs": [
    {
     "data": {
      "text/plain": [
       "['jacker', 'himanshu', 'ayush', 'anand']"
      ]
     },
     "execution_count": 138,
     "metadata": {},
     "output_type": "execute_result"
    }
   ],
   "source": [
    "a4"
   ]
  },
  {
   "cell_type": "code",
   "execution_count": 139,
   "id": "d4bb357c-2d40-4bcc-ac1c-ce3fa379cf8b",
   "metadata": {},
   "outputs": [
    {
     "data": {
      "text/plain": [
       "2"
      ]
     },
     "execution_count": 139,
     "metadata": {},
     "output_type": "execute_result"
    }
   ],
   "source": [
    "a4.index('ayush')"
   ]
  },
  {
   "cell_type": "code",
   "execution_count": 141,
   "id": "51c249be-5598-42ee-b005-ccc4b4909a6d",
   "metadata": {},
   "outputs": [
    {
     "data": {
      "text/plain": [
       "1"
      ]
     },
     "execution_count": 141,
     "metadata": {},
     "output_type": "execute_result"
    }
   ],
   "source": [
    "a4.count('jacker')"
   ]
  },
  {
   "cell_type": "code",
   "execution_count": 143,
   "id": "e322d039-45a5-497d-b1f8-e570f5839985",
   "metadata": {},
   "outputs": [
    {
     "data": {
      "text/plain": [
       "0"
      ]
     },
     "execution_count": 143,
     "metadata": {},
     "output_type": "execute_result"
    }
   ],
   "source": [
    "a4.count('a')"
   ]
  },
  {
   "cell_type": "code",
   "execution_count": 144,
   "id": "b43eacc2-eb1a-42e8-a6a7-72f585679128",
   "metadata": {},
   "outputs": [],
   "source": [
    "d = \"anand\""
   ]
  },
  {
   "cell_type": "code",
   "execution_count": 145,
   "id": "f4870772-dee6-4e9c-bd6a-81d3d7a0144a",
   "metadata": {},
   "outputs": [],
   "source": [
    "l4 = [3,4,5,6]"
   ]
  },
  {
   "cell_type": "code",
   "execution_count": 148,
   "id": "3ceeffe3-cf9d-4b25-8edd-9edbf7e697d1",
   "metadata": {},
   "outputs": [
    {
     "ename": "TypeError",
     "evalue": "'str' object does not support item assignment",
     "output_type": "error",
     "traceback": [
      "\u001b[0;31m---------------------------------------------------------------------------\u001b[0m",
      "\u001b[0;31mTypeError\u001b[0m                                 Traceback (most recent call last)",
      "Cell \u001b[0;32mIn[148], line 1\u001b[0m\n\u001b[0;32m----> 1\u001b[0m \u001b[43md\u001b[49m\u001b[43m[\u001b[49m\u001b[38;5;241;43m2\u001b[39;49m\u001b[43m]\u001b[49m \u001b[38;5;241m=\u001b[39m \u001b[38;5;124m'\u001b[39m\u001b[38;5;124mr\u001b[39m\u001b[38;5;124m'\u001b[39m\n",
      "\u001b[0;31mTypeError\u001b[0m: 'str' object does not support item assignment"
     ]
    }
   ],
   "source": [
    "d[2] = 'r'"
   ]
  },
  {
   "cell_type": "code",
   "execution_count": 149,
   "id": "ac745641-e817-4a96-baa8-bc4cb01c0a6c",
   "metadata": {},
   "outputs": [],
   "source": [
    "l4[1]=34"
   ]
  },
  {
   "cell_type": "code",
   "execution_count": 150,
   "id": "fe27a3e1-ae49-4e63-b3ed-7d24f53c7fb2",
   "metadata": {},
   "outputs": [
    {
     "data": {
      "text/plain": [
       "[3, 34, 5, 6]"
      ]
     },
     "execution_count": 150,
     "metadata": {},
     "output_type": "execute_result"
    }
   ],
   "source": [
    "l4"
   ]
  },
  {
   "cell_type": "code",
   "execution_count": 151,
   "id": "d8b38922-2fb9-4608-94ef-517089699725",
   "metadata": {},
   "outputs": [
    {
     "data": {
      "text/plain": [
       "'anand'"
      ]
     },
     "execution_count": 151,
     "metadata": {},
     "output_type": "execute_result"
    }
   ],
   "source": [
    "d"
   ]
  },
  {
   "cell_type": "code",
   "execution_count": 152,
   "id": "925ca972-3d38-4871-901a-45076427f7ff",
   "metadata": {},
   "outputs": [
    {
     "data": {
      "text/plain": [
       "'anank'"
      ]
     },
     "execution_count": 152,
     "metadata": {},
     "output_type": "execute_result"
    }
   ],
   "source": [
    "d.replace('d','k')"
   ]
  },
  {
   "cell_type": "code",
   "execution_count": 153,
   "id": "647b17d9-c3d1-464a-9f3d-6694e4fc2ca2",
   "metadata": {},
   "outputs": [
    {
     "data": {
      "text/plain": [
       "'anand'"
      ]
     },
     "execution_count": 153,
     "metadata": {},
     "output_type": "execute_result"
    }
   ],
   "source": [
    "d"
   ]
  },
  {
   "cell_type": "code",
   "execution_count": 154,
   "id": "64e3a486-2479-4bd8-9072-538235f091e3",
   "metadata": {},
   "outputs": [],
   "source": [
    "d = d.replace('d','k')"
   ]
  },
  {
   "cell_type": "code",
   "execution_count": 155,
   "id": "58207689-fe1d-4003-8bec-8b1c461d343b",
   "metadata": {},
   "outputs": [
    {
     "data": {
      "text/plain": [
       "'anank'"
      ]
     },
     "execution_count": 155,
     "metadata": {},
     "output_type": "execute_result"
    }
   ],
   "source": [
    "d"
   ]
  },
  {
   "cell_type": "code",
   "execution_count": 1,
   "id": "a4af43d4-9dcc-4ce0-a136-3d82fd1e090f",
   "metadata": {},
   "outputs": [],
   "source": [
    "t = (2,3,4,'anand',False,45.56,43+76j,[23,43,55])"
   ]
  },
  {
   "cell_type": "code",
   "execution_count": 2,
   "id": "e604f54b-56fc-4680-99d0-369d64b2f8ab",
   "metadata": {},
   "outputs": [
    {
     "data": {
      "text/plain": [
       "(2, 3, 4, 'anand', False, 45.56, (43+76j), [23, 43, 55])"
      ]
     },
     "execution_count": 2,
     "metadata": {},
     "output_type": "execute_result"
    }
   ],
   "source": [
    "t"
   ]
  },
  {
   "cell_type": "code",
   "execution_count": 23,
   "id": "1b188951-4c9c-4d21-b880-ec1a0688a2cc",
   "metadata": {},
   "outputs": [],
   "source": [
    "# Tuple - Tuple is collection is just like list. But list is mutable and Tuble is immutable.\n",
    "# Its store any type of data.\n",
    "# In case of list we can access a index and mutate(change) the data.And which is possible. \n",
    "# in case of Tuple we can't access a index and can not mutate(change) the data."
   ]
  },
  {
   "cell_type": "code",
   "execution_count": 4,
   "id": "1bfbd36b-2ff7-4f9b-b72e-6d46ebabef1f",
   "metadata": {},
   "outputs": [
    {
     "data": {
      "text/plain": [
       "tuple"
      ]
     },
     "execution_count": 4,
     "metadata": {},
     "output_type": "execute_result"
    }
   ],
   "source": [
    "type(t)"
   ]
  },
  {
   "cell_type": "code",
   "execution_count": 5,
   "id": "973f3cd5-d9ef-4661-9d42-a35094da0bd9",
   "metadata": {},
   "outputs": [
    {
     "data": {
      "text/plain": [
       "8"
      ]
     },
     "execution_count": 5,
     "metadata": {},
     "output_type": "execute_result"
    }
   ],
   "source": [
    "len(t)"
   ]
  },
  {
   "cell_type": "code",
   "execution_count": 6,
   "id": "1137c609-7f19-4ede-aa6e-8c2b84f0aedb",
   "metadata": {},
   "outputs": [
    {
     "data": {
      "text/plain": [
       "4"
      ]
     },
     "execution_count": 6,
     "metadata": {},
     "output_type": "execute_result"
    }
   ],
   "source": [
    "t[2]"
   ]
  },
  {
   "cell_type": "code",
   "execution_count": 7,
   "id": "5d653b50-5b4f-42f8-93c6-0b0855ea1c67",
   "metadata": {},
   "outputs": [
    {
     "data": {
      "text/plain": [
       "45.56"
      ]
     },
     "execution_count": 7,
     "metadata": {},
     "output_type": "execute_result"
    }
   ],
   "source": [
    "t[-3]"
   ]
  },
  {
   "cell_type": "code",
   "execution_count": 8,
   "id": "aa0b7882-5376-407e-b7ce-073d741542ba",
   "metadata": {},
   "outputs": [
    {
     "data": {
      "text/plain": [
       "([23, 43, 55], (43+76j), 45.56, False, 'anand', 4, 3, 2)"
      ]
     },
     "execution_count": 8,
     "metadata": {},
     "output_type": "execute_result"
    }
   ],
   "source": [
    "t[::-1]"
   ]
  },
  {
   "cell_type": "code",
   "execution_count": 9,
   "id": "f6e2713d-b39e-4242-b2c0-7e2594455447",
   "metadata": {},
   "outputs": [
    {
     "data": {
      "text/plain": [
       "(2, 3, 4, 'anand', False, 45.56, (43+76j), [23, 43, 55])"
      ]
     },
     "execution_count": 9,
     "metadata": {},
     "output_type": "execute_result"
    }
   ],
   "source": [
    "t"
   ]
  },
  {
   "cell_type": "code",
   "execution_count": 10,
   "id": "674b7b9f-9f8c-4dc6-858e-cb4731cb88c6",
   "metadata": {},
   "outputs": [
    {
     "ename": "TypeError",
     "evalue": "'tuple' object does not support item assignment",
     "output_type": "error",
     "traceback": [
      "\u001b[0;31m---------------------------------------------------------------------------\u001b[0m",
      "\u001b[0;31mTypeError\u001b[0m                                 Traceback (most recent call last)",
      "Cell \u001b[0;32mIn[10], line 1\u001b[0m\n\u001b[0;32m----> 1\u001b[0m \u001b[43mt\u001b[49m\u001b[43m[\u001b[49m\u001b[38;5;241;43m3\u001b[39;49m\u001b[43m]\u001b[49m\u001b[38;5;241m=\u001b[39m\u001b[38;5;124m'\u001b[39m\u001b[38;5;124mpwskills\u001b[39m\u001b[38;5;124m'\u001b[39m\n",
      "\u001b[0;31mTypeError\u001b[0m: 'tuple' object does not support item assignment"
     ]
    }
   ],
   "source": [
    "t[3]='pwskills'"
   ]
  },
  {
   "cell_type": "code",
   "execution_count": 17,
   "id": "9f0b91e0-6e46-4763-9c66-e2bee3de8cc2",
   "metadata": {},
   "outputs": [],
   "source": [
    "l4 = ['anand','rahul','govind','jacker']"
   ]
  },
  {
   "cell_type": "code",
   "execution_count": 18,
   "id": "078a9aa1-239b-40a2-a7be-e450a0862923",
   "metadata": {},
   "outputs": [
    {
     "data": {
      "text/plain": [
       "['anand', 'rahul', 'govind', 'jacker']"
      ]
     },
     "execution_count": 18,
     "metadata": {},
     "output_type": "execute_result"
    }
   ],
   "source": [
    "l4"
   ]
  },
  {
   "cell_type": "code",
   "execution_count": 19,
   "id": "1356d469-54ff-420c-97bd-251c42d48882",
   "metadata": {},
   "outputs": [],
   "source": [
    "l4[0]=4357"
   ]
  },
  {
   "cell_type": "code",
   "execution_count": 20,
   "id": "cb193dd9-be4e-4ae9-b435-c33687871b70",
   "metadata": {},
   "outputs": [
    {
     "data": {
      "text/plain": [
       "[4357, 'rahul', 'govind', 'jacker']"
      ]
     },
     "execution_count": 20,
     "metadata": {},
     "output_type": "execute_result"
    }
   ],
   "source": [
    "l4"
   ]
  },
  {
   "cell_type": "code",
   "execution_count": 24,
   "id": "b6ce4aae-d999-41ee-824b-97f36977ee6c",
   "metadata": {},
   "outputs": [
    {
     "ename": "AttributeError",
     "evalue": "'tuple' object has no attribute 'replace'",
     "output_type": "error",
     "traceback": [
      "\u001b[0;31m---------------------------------------------------------------------------\u001b[0m",
      "\u001b[0;31mAttributeError\u001b[0m                            Traceback (most recent call last)",
      "Cell \u001b[0;32mIn[24], line 1\u001b[0m\n\u001b[0;32m----> 1\u001b[0m t \u001b[38;5;241m=\u001b[39m \u001b[43mt\u001b[49m\u001b[38;5;241;43m.\u001b[39;49m\u001b[43mreplace\u001b[49m(\u001b[38;5;124m'\u001b[39m\u001b[38;5;124mFalse\u001b[39m\u001b[38;5;124m'\u001b[39m,\u001b[38;5;124m'\u001b[39m\u001b[38;5;124mTrue\u001b[39m\u001b[38;5;124m'\u001b[39m)\n",
      "\u001b[0;31mAttributeError\u001b[0m: 'tuple' object has no attribute 'replace'"
     ]
    }
   ],
   "source": [
    "t = t.replace('False','True')"
   ]
  },
  {
   "cell_type": "code",
   "execution_count": 25,
   "id": "8766a88c-c892-4331-b0db-f4d3e87f75c0",
   "metadata": {},
   "outputs": [
    {
     "data": {
      "text/plain": [
       "([23, 43, 55], (43+76j), 45.56, False, 'anand', 4, 3, 2)"
      ]
     },
     "execution_count": 25,
     "metadata": {},
     "output_type": "execute_result"
    }
   ],
   "source": [
    "t[::-1]"
   ]
  },
  {
   "cell_type": "code",
   "execution_count": 31,
   "id": "da73fe87-0354-419e-9092-a2dae6a5a363",
   "metadata": {},
   "outputs": [],
   "source": [
    "t = t[::-1]"
   ]
  },
  {
   "cell_type": "code",
   "execution_count": 32,
   "id": "fb290c57-f98a-4ccc-89ba-d324b0f4906e",
   "metadata": {},
   "outputs": [
    {
     "data": {
      "text/plain": [
       "([23, 43, 55], (43+76j), 45.56, False, 'anand', 4, 3, 2)"
      ]
     },
     "execution_count": 32,
     "metadata": {},
     "output_type": "execute_result"
    }
   ],
   "source": [
    "t"
   ]
  },
  {
   "cell_type": "code",
   "execution_count": 33,
   "id": "6052ea4b-acb7-481c-87aa-f85c796fe469",
   "metadata": {},
   "outputs": [],
   "source": [
    "t = t[::-1]"
   ]
  },
  {
   "cell_type": "code",
   "execution_count": 34,
   "id": "4df77a3a-e019-46fd-9ddf-d48292bf9eff",
   "metadata": {},
   "outputs": [
    {
     "data": {
      "text/plain": [
       "(2, 3, 4, 'anand', False, 45.56, (43+76j), [23, 43, 55])"
      ]
     },
     "execution_count": 34,
     "metadata": {},
     "output_type": "execute_result"
    }
   ],
   "source": [
    "t"
   ]
  },
  {
   "cell_type": "code",
   "execution_count": 36,
   "id": "2a6f5305-06a4-47a6-a738-fce5b7eb9527",
   "metadata": {},
   "outputs": [
    {
     "data": {
      "text/plain": [
       "0"
      ]
     },
     "execution_count": 36,
     "metadata": {},
     "output_type": "execute_result"
    }
   ],
   "source": [
    "t.count(90)"
   ]
  },
  {
   "cell_type": "code",
   "execution_count": 37,
   "id": "c6e1bc78-2f3f-42b7-9351-e90e071c1e7b",
   "metadata": {},
   "outputs": [
    {
     "data": {
      "text/plain": [
       "0"
      ]
     },
     "execution_count": 37,
     "metadata": {},
     "output_type": "execute_result"
    }
   ],
   "source": [
    "t.count('jacker')"
   ]
  },
  {
   "cell_type": "code",
   "execution_count": 39,
   "id": "fbbb1334-cc09-44b0-bc2e-ca54fddcb26d",
   "metadata": {},
   "outputs": [
    {
     "data": {
      "text/plain": [
       "4"
      ]
     },
     "execution_count": 39,
     "metadata": {},
     "output_type": "execute_result"
    }
   ],
   "source": [
    "t.index(False)"
   ]
  },
  {
   "cell_type": "code",
   "execution_count": 64,
   "id": "d08d167a-517f-42c6-8a30-60b014e6a05e",
   "metadata": {},
   "outputs": [],
   "source": [
    "# Set - set is remove all duplicate data and give it to you.\n",
    "# set is immutable."
   ]
  },
  {
   "cell_type": "code",
   "execution_count": 41,
   "id": "bb4e27e4-a949-4600-b500-a117c1149c21",
   "metadata": {},
   "outputs": [],
   "source": [
    "s = {}"
   ]
  },
  {
   "cell_type": "code",
   "execution_count": 42,
   "id": "65bc8cf0-d72c-42f6-8f91-75fbc77a06b5",
   "metadata": {},
   "outputs": [
    {
     "data": {
      "text/plain": [
       "dict"
      ]
     },
     "execution_count": 42,
     "metadata": {},
     "output_type": "execute_result"
    }
   ],
   "source": [
    "type(s)"
   ]
  },
  {
   "cell_type": "code",
   "execution_count": 43,
   "id": "7c1986a8-48cb-41fa-a997-474b2395dccb",
   "metadata": {},
   "outputs": [],
   "source": [
    "s1 = {2,3,44,54}"
   ]
  },
  {
   "cell_type": "code",
   "execution_count": 44,
   "id": "dc2bf8c5-6ce4-403b-8d2e-b5d896c904c3",
   "metadata": {},
   "outputs": [
    {
     "data": {
      "text/plain": [
       "set"
      ]
     },
     "execution_count": 44,
     "metadata": {},
     "output_type": "execute_result"
    }
   ],
   "source": [
    "type(s1)"
   ]
  },
  {
   "cell_type": "code",
   "execution_count": 45,
   "id": "eaffe8ef-2480-4717-ba3c-a7900677634f",
   "metadata": {},
   "outputs": [
    {
     "ename": "TypeError",
     "evalue": "unhashable type: 'list'",
     "output_type": "error",
     "traceback": [
      "\u001b[0;31m---------------------------------------------------------------------------\u001b[0m",
      "\u001b[0;31mTypeError\u001b[0m                                 Traceback (most recent call last)",
      "Cell \u001b[0;32mIn[45], line 1\u001b[0m\n\u001b[0;32m----> 1\u001b[0m s2 \u001b[38;5;241m=\u001b[39m {\u001b[38;5;241m213\u001b[39m,\u001b[38;5;241m324\u001b[39m,\u001b[38;5;241m435\u001b[39m,\u001b[38;5;241m45.65\u001b[39m,\u001b[38;5;241m54\u001b[39m\u001b[38;5;241m+\u001b[39m\u001b[38;5;241m54\u001b[39mj,\u001b[38;5;28;01mFalse\u001b[39;00m,[\u001b[38;5;241m2\u001b[39m,\u001b[38;5;241m3\u001b[39m,\u001b[38;5;241m4\u001b[39m]}\n",
      "\u001b[0;31mTypeError\u001b[0m: unhashable type: 'list'"
     ]
    }
   ],
   "source": [
    "s2 = {213,324,435,45.65,54+54j,False,[2,3,4]}"
   ]
  },
  {
   "cell_type": "code",
   "execution_count": 46,
   "id": "b1da860c-7d07-43cd-91d4-f50e1ee84282",
   "metadata": {},
   "outputs": [],
   "source": [
    "s2 = {213,324,435,45.65,54+54j,False,(2,3,4)}"
   ]
  },
  {
   "cell_type": "code",
   "execution_count": 47,
   "id": "5b089f33-83bd-44e6-9f3f-bd4aa5de1a53",
   "metadata": {},
   "outputs": [
    {
     "data": {
      "text/plain": [
       "{(2, 3, 4), (54+54j), 213, 324, 435, 45.65, False}"
      ]
     },
     "execution_count": 47,
     "metadata": {},
     "output_type": "execute_result"
    }
   ],
   "source": [
    "s2"
   ]
  },
  {
   "cell_type": "code",
   "execution_count": 48,
   "id": "0ccdf15e-8298-4734-a02d-7068fb7bab4b",
   "metadata": {},
   "outputs": [],
   "source": [
    "s3 = {2,3,2,4,5,6,7,8,9,4,6,7,4,3,2,0,1,3,4,5,6}"
   ]
  },
  {
   "cell_type": "code",
   "execution_count": 49,
   "id": "c3665afe-0bad-4265-9946-e584341dbd3f",
   "metadata": {},
   "outputs": [
    {
     "data": {
      "text/plain": [
       "{0, 1, 2, 3, 4, 5, 6, 7, 8, 9}"
      ]
     },
     "execution_count": 49,
     "metadata": {},
     "output_type": "execute_result"
    }
   ],
   "source": [
    "s3"
   ]
  },
  {
   "cell_type": "code",
   "execution_count": 50,
   "id": "ca9d89ef-ea16-454e-9b9f-f8baee1dcef1",
   "metadata": {},
   "outputs": [],
   "source": [
    "s4 = {'anand','annu','jacker','ayush','anand','annu','himanshu'}"
   ]
  },
  {
   "cell_type": "code",
   "execution_count": 51,
   "id": "09fad0ba-80e9-4192-a9e9-40b0a81b4130",
   "metadata": {},
   "outputs": [
    {
     "data": {
      "text/plain": [
       "{'anand', 'annu', 'ayush', 'himanshu', 'jacker'}"
      ]
     },
     "execution_count": 51,
     "metadata": {},
     "output_type": "execute_result"
    }
   ],
   "source": [
    "s4"
   ]
  },
  {
   "cell_type": "code",
   "execution_count": 54,
   "id": "4e6c7d1a-d29e-4548-ab4b-f53587ae7f93",
   "metadata": {},
   "outputs": [],
   "source": [
    "l6 = [2,3,2,4,5,6,7,8,9,4,6,7,4,3,2,0,1,3,4,5,6,'anand','Anand']"
   ]
  },
  {
   "cell_type": "code",
   "execution_count": 55,
   "id": "d61c92de-33aa-4104-ac16-775ad9df6326",
   "metadata": {},
   "outputs": [
    {
     "data": {
      "text/plain": [
       "[2,\n",
       " 3,\n",
       " 2,\n",
       " 4,\n",
       " 5,\n",
       " 6,\n",
       " 7,\n",
       " 8,\n",
       " 9,\n",
       " 4,\n",
       " 6,\n",
       " 7,\n",
       " 4,\n",
       " 3,\n",
       " 2,\n",
       " 0,\n",
       " 1,\n",
       " 3,\n",
       " 4,\n",
       " 5,\n",
       " 6,\n",
       " 'anand',\n",
       " 'Anand']"
      ]
     },
     "execution_count": 55,
     "metadata": {},
     "output_type": "execute_result"
    }
   ],
   "source": [
    "l6"
   ]
  },
  {
   "cell_type": "code",
   "execution_count": 56,
   "id": "3529045a-9d4d-480c-afa3-d03ca1be8c5e",
   "metadata": {},
   "outputs": [],
   "source": [
    "l6 = [2,3,2,4,5,6,7,8,9,4,6,7,4,3,2,0,1,3,4,5,6,'anand','Anand']"
   ]
  },
  {
   "cell_type": "code",
   "execution_count": 57,
   "id": "14a1b6b1-37d8-4ea0-bb2e-24cf506df336",
   "metadata": {},
   "outputs": [
    {
     "data": {
      "text/plain": [
       "[2,\n",
       " 3,\n",
       " 2,\n",
       " 4,\n",
       " 5,\n",
       " 6,\n",
       " 7,\n",
       " 8,\n",
       " 9,\n",
       " 4,\n",
       " 6,\n",
       " 7,\n",
       " 4,\n",
       " 3,\n",
       " 2,\n",
       " 0,\n",
       " 1,\n",
       " 3,\n",
       " 4,\n",
       " 5,\n",
       " 6,\n",
       " 'anand',\n",
       " 'Anand']"
      ]
     },
     "execution_count": 57,
     "metadata": {},
     "output_type": "execute_result"
    }
   ],
   "source": [
    "l6"
   ]
  },
  {
   "cell_type": "code",
   "execution_count": 58,
   "id": "3fa15ca7-c673-42bf-81bb-aa7f0f3e1057",
   "metadata": {},
   "outputs": [
    {
     "data": {
      "text/plain": [
       "{0, 1, 2, 3, 4, 5, 6, 7, 8, 9, 'Anand', 'anand'}"
      ]
     },
     "execution_count": 58,
     "metadata": {},
     "output_type": "execute_result"
    }
   ],
   "source": [
    "set(l6)"
   ]
  },
  {
   "cell_type": "code",
   "execution_count": 59,
   "id": "d1394251-fc7c-49ee-8398-72799e2999dc",
   "metadata": {},
   "outputs": [
    {
     "data": {
      "text/plain": [
       "[2,\n",
       " 3,\n",
       " 2,\n",
       " 4,\n",
       " 5,\n",
       " 6,\n",
       " 7,\n",
       " 8,\n",
       " 9,\n",
       " 4,\n",
       " 6,\n",
       " 7,\n",
       " 4,\n",
       " 3,\n",
       " 2,\n",
       " 0,\n",
       " 1,\n",
       " 3,\n",
       " 4,\n",
       " 5,\n",
       " 6,\n",
       " 'anand',\n",
       " 'Anand']"
      ]
     },
     "execution_count": 59,
     "metadata": {},
     "output_type": "execute_result"
    }
   ],
   "source": [
    "l6"
   ]
  },
  {
   "cell_type": "code",
   "execution_count": 60,
   "id": "bfe8285d-dd41-4f99-8d9d-36ef54f8e481",
   "metadata": {},
   "outputs": [],
   "source": [
    "l6 = set(l6)"
   ]
  },
  {
   "cell_type": "code",
   "execution_count": 61,
   "id": "b51f4732-3caa-4da4-b05c-2e8d9c367939",
   "metadata": {},
   "outputs": [
    {
     "data": {
      "text/plain": [
       "{0, 1, 2, 3, 4, 5, 6, 7, 8, 9, 'Anand', 'anand'}"
      ]
     },
     "execution_count": 61,
     "metadata": {},
     "output_type": "execute_result"
    }
   ],
   "source": [
    "l6"
   ]
  },
  {
   "cell_type": "code",
   "execution_count": 62,
   "id": "b05ea332-7d1c-4e18-9c45-162e66976392",
   "metadata": {},
   "outputs": [],
   "source": [
    "l6 = list(set(l6))"
   ]
  },
  {
   "cell_type": "code",
   "execution_count": 63,
   "id": "6c3236b8-a2fb-4c34-8a2e-6a5b22b60692",
   "metadata": {},
   "outputs": [
    {
     "data": {
      "text/plain": [
       "[0, 1, 2, 3, 4, 5, 6, 7, 8, 9, 'anand', 'Anand']"
      ]
     },
     "execution_count": 63,
     "metadata": {},
     "output_type": "execute_result"
    }
   ],
   "source": [
    "l6"
   ]
  },
  {
   "cell_type": "code",
   "execution_count": 65,
   "id": "2c5b0990-ab13-4ea2-a603-426d267b722d",
   "metadata": {},
   "outputs": [],
   "source": [
    "s5 = {32,34,54,65,76,32,43,34,65,56,67,87,76,67}"
   ]
  },
  {
   "cell_type": "code",
   "execution_count": 66,
   "id": "bb371253-66c0-452f-8e73-8f66cdf0a6f2",
   "metadata": {},
   "outputs": [
    {
     "data": {
      "text/plain": [
       "{32, 34, 43, 54, 56, 65, 67, 76, 87}"
      ]
     },
     "execution_count": 66,
     "metadata": {},
     "output_type": "execute_result"
    }
   ],
   "source": [
    "s5"
   ]
  },
  {
   "cell_type": "code",
   "execution_count": 67,
   "id": "59ddbbda-9b37-4308-a76b-077304cc6e36",
   "metadata": {},
   "outputs": [
    {
     "ename": "TypeError",
     "evalue": "'set' object is not subscriptable",
     "output_type": "error",
     "traceback": [
      "\u001b[0;31m---------------------------------------------------------------------------\u001b[0m",
      "\u001b[0;31mTypeError\u001b[0m                                 Traceback (most recent call last)",
      "Cell \u001b[0;32mIn[67], line 1\u001b[0m\n\u001b[0;32m----> 1\u001b[0m \u001b[43ms5\u001b[49m\u001b[43m[\u001b[49m\u001b[38;5;241;43m3\u001b[39;49m\u001b[43m]\u001b[49m\n",
      "\u001b[0;31mTypeError\u001b[0m: 'set' object is not subscriptable"
     ]
    }
   ],
   "source": [
    "s5[3]"
   ]
  },
  {
   "cell_type": "code",
   "execution_count": 69,
   "id": "c308966b-833e-4f3a-a5d4-2ddf2fd59082",
   "metadata": {},
   "outputs": [
    {
     "ename": "TypeError",
     "evalue": "'set' object is not subscriptable",
     "output_type": "error",
     "traceback": [
      "\u001b[0;31m---------------------------------------------------------------------------\u001b[0m",
      "\u001b[0;31mTypeError\u001b[0m                                 Traceback (most recent call last)",
      "Cell \u001b[0;32mIn[69], line 1\u001b[0m\n\u001b[0;32m----> 1\u001b[0m \u001b[43ms5\u001b[49m\u001b[43m[\u001b[49m\u001b[43m:\u001b[49m\u001b[43m:\u001b[49m\u001b[38;5;241;43m-\u001b[39;49m\u001b[38;5;241;43m1\u001b[39;49m\u001b[43m]\u001b[49m\n",
      "\u001b[0;31mTypeError\u001b[0m: 'set' object is not subscriptable"
     ]
    }
   ],
   "source": [
    "s5[::-1]"
   ]
  },
  {
   "cell_type": "code",
   "execution_count": 70,
   "id": "75a63056-1a5d-495c-b25f-e78f7d13c136",
   "metadata": {},
   "outputs": [
    {
     "data": {
      "text/plain": [
       "{32, 34, 43, 54, 56, 65, 67, 76, 87}"
      ]
     },
     "execution_count": 70,
     "metadata": {},
     "output_type": "execute_result"
    }
   ],
   "source": [
    "s5"
   ]
  },
  {
   "cell_type": "code",
   "execution_count": 71,
   "id": "b6dfa155-4d0b-4e4a-9806-bd0523a150d3",
   "metadata": {},
   "outputs": [],
   "source": [
    "s5.add(4)"
   ]
  },
  {
   "cell_type": "code",
   "execution_count": 72,
   "id": "1ff9ad6a-f492-402e-83c2-f8af5a48e1ba",
   "metadata": {},
   "outputs": [
    {
     "data": {
      "text/plain": [
       "{4, 32, 34, 43, 54, 56, 65, 67, 76, 87}"
      ]
     },
     "execution_count": 72,
     "metadata": {},
     "output_type": "execute_result"
    }
   ],
   "source": [
    "s5"
   ]
  },
  {
   "cell_type": "code",
   "execution_count": 73,
   "id": "4c4dd583-18cb-442e-8e8f-86fc0d592531",
   "metadata": {},
   "outputs": [],
   "source": [
    "s5.add('anand')"
   ]
  },
  {
   "cell_type": "code",
   "execution_count": 74,
   "id": "73bfad1d-5ee3-4421-8326-4db4adee35ca",
   "metadata": {},
   "outputs": [
    {
     "data": {
      "text/plain": [
       "{32, 34, 4, 43, 54, 56, 65, 67, 76, 87, 'anand'}"
      ]
     },
     "execution_count": 74,
     "metadata": {},
     "output_type": "execute_result"
    }
   ],
   "source": [
    "s5"
   ]
  },
  {
   "cell_type": "code",
   "execution_count": 75,
   "id": "75c97ba6-7e20-4a7c-baad-0364e1bbba2a",
   "metadata": {},
   "outputs": [],
   "source": [
    "s5.remove(4)"
   ]
  },
  {
   "cell_type": "code",
   "execution_count": 76,
   "id": "742a16e3-75d9-4169-a8f4-54a8050cb797",
   "metadata": {},
   "outputs": [
    {
     "data": {
      "text/plain": [
       "{32, 34, 43, 54, 56, 65, 67, 76, 87, 'anand'}"
      ]
     },
     "execution_count": 76,
     "metadata": {},
     "output_type": "execute_result"
    }
   ],
   "source": [
    "s5"
   ]
  },
  {
   "cell_type": "code",
   "execution_count": 77,
   "id": "1bc8e68d-f682-434d-9d6c-358185db8e96",
   "metadata": {},
   "outputs": [],
   "source": [
    "s5.remove('anand')"
   ]
  },
  {
   "cell_type": "code",
   "execution_count": 78,
   "id": "a6694904-ad8d-4974-9e06-79452c0d57b0",
   "metadata": {},
   "outputs": [
    {
     "data": {
      "text/plain": [
       "{32, 34, 43, 54, 56, 65, 67, 76, 87}"
      ]
     },
     "execution_count": 78,
     "metadata": {},
     "output_type": "execute_result"
    }
   ],
   "source": [
    "s5"
   ]
  },
  {
   "cell_type": "code",
   "execution_count": 80,
   "id": "824d2c7d-e59a-45b2-8e50-70538d1a7153",
   "metadata": {},
   "outputs": [],
   "source": [
    "s5.clear()"
   ]
  },
  {
   "cell_type": "code",
   "execution_count": 81,
   "id": "b2699d5b-c077-447b-a824-8b9b911c7f7f",
   "metadata": {},
   "outputs": [
    {
     "data": {
      "text/plain": [
       "set()"
      ]
     },
     "execution_count": 81,
     "metadata": {},
     "output_type": "execute_result"
    }
   ],
   "source": [
    "s5"
   ]
  },
  {
   "cell_type": "code",
   "execution_count": 82,
   "id": "47fdca3b-bf9f-4dcc-ae79-f028a72a7b65",
   "metadata": {},
   "outputs": [],
   "source": [
    "s6 = {23,43,54,67,76,89,87,65,23,43,54,65,76,65,}"
   ]
  },
  {
   "cell_type": "code",
   "execution_count": 83,
   "id": "e07e405d-b3e8-4318-aaf5-733879f98a00",
   "metadata": {},
   "outputs": [
    {
     "data": {
      "text/plain": [
       "{23, 43, 54, 65, 67, 76, 87, 89}"
      ]
     },
     "execution_count": 83,
     "metadata": {},
     "output_type": "execute_result"
    }
   ],
   "source": [
    "s6"
   ]
  },
  {
   "cell_type": "code",
   "execution_count": 86,
   "id": "c04f4a6a-888c-4460-b328-64791f5fad3e",
   "metadata": {},
   "outputs": [
    {
     "data": {
      "text/plain": [
       "{23, 43, 54, 65, 67, 76, 87, 89}"
      ]
     },
     "execution_count": 86,
     "metadata": {},
     "output_type": "execute_result"
    }
   ],
   "source": [
    "s6.copy()"
   ]
  }
 ],
 "metadata": {
  "kernelspec": {
   "display_name": "Python 3 (ipykernel)",
   "language": "python",
   "name": "python3"
  },
  "language_info": {
   "codemirror_mode": {
    "name": "ipython",
    "version": 3
   },
   "file_extension": ".py",
   "mimetype": "text/x-python",
   "name": "python",
   "nbconvert_exporter": "python",
   "pygments_lexer": "ipython3",
   "version": "3.10.8"
  }
 },
 "nbformat": 4,
 "nbformat_minor": 5
}
