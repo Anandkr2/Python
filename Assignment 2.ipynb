{
 "cells": [
  {
   "cell_type": "code",
   "execution_count": 1,
   "id": "989120bc-cd0a-47c2-b4d1-19ce59da08d7",
   "metadata": {},
   "outputs": [],
   "source": [
    "#Q1. How do you comment code in Python? What are the different types of comments?"
   ]
  },
  {
   "cell_type": "code",
   "execution_count": 2,
   "id": "d7961342-c57f-480a-a23b-9bf604885d63",
   "metadata": {},
   "outputs": [],
   "source": [
    "# Answer"
   ]
  },
  {
   "cell_type": "code",
   "execution_count": 4,
   "id": "a59e71cb-13f1-4b72-8454-e117d7195720",
   "metadata": {},
   "outputs": [],
   "source": [
    "#  The commenting in Python is done by using a hash or ''' '''\n",
    "\n",
    "#  There are two types of comments in Python:\n",
    "\n",
    "#  Single-line comments: These are comments that span only one line and start with a hash symbol (#).\n",
    "#  Multi-line comments: These are comments that span multiple lines and are enclosed in triple quotes (‘’’ or “”\")."
   ]
  },
  {
   "cell_type": "code",
   "execution_count": 5,
   "id": "46d6fc2d-79a7-43e3-a9f5-d34c96a83a4f",
   "metadata": {},
   "outputs": [],
   "source": [
    "# Q2. What are variables in Python? How do you declare and assign values to variables?"
   ]
  },
  {
   "cell_type": "code",
   "execution_count": 6,
   "id": "df545344-f813-4528-9a49-6a2579363185",
   "metadata": {},
   "outputs": [],
   "source": [
    "# Answer"
   ]
  },
  {
   "cell_type": "code",
   "execution_count": 7,
   "id": "3e676b8d-80a6-4d5c-8f45-a852b47c6b99",
   "metadata": {},
   "outputs": [],
   "source": [
    "# Variables are used to store data values. They act as placeholders or containers for storing and referencing data within a program. Variables can hold various types of data, such as numbers, strings, lists etc.\n",
    "\n",
    "# To create a variable, you just assign it a value and then start using it. Assignment is done with a single equals sign (=)"
   ]
  },
  {
   "cell_type": "code",
   "execution_count": 8,
   "id": "cab13844-72cf-4901-9729-80ac3df7b02b",
   "metadata": {},
   "outputs": [],
   "source": [
    "# Q3. How do you convert one data type to another in Python?"
   ]
  },
  {
   "cell_type": "code",
   "execution_count": 9,
   "id": "1e329ab1-15d0-4881-9df4-1c9d29c7d8f1",
   "metadata": {},
   "outputs": [],
   "source": [
    "# Answer"
   ]
  },
  {
   "cell_type": "code",
   "execution_count": 10,
   "id": "ce7abdd9-104f-491c-990f-140a65d71fbb",
   "metadata": {},
   "outputs": [],
   "source": [
    "# You can convert one data type to another in Python using either implicit or explicit data type conversion.\n",
    "\n",
    "# In implicit data type conversion, Python automatically converts one data type to another without any user involvement.\n",
    "\n",
    "# In explicit data type conversion, you force Python to convert it to a specific datatype. You can use functions such as int(), float(), and complex() to convert from one type to another."
   ]
  },
  {
   "cell_type": "code",
   "execution_count": 11,
   "id": "a962ac5c-95a7-4cb8-b028-d27f7f559cf7",
   "metadata": {},
   "outputs": [],
   "source": [
    "# Q4. How do you write and execute a Python script from the command line?"
   ]
  },
  {
   "cell_type": "code",
   "execution_count": 12,
   "id": "eae5790b-281d-4edf-87b9-5647b40fc122",
   "metadata": {},
   "outputs": [],
   "source": [
    "# Answer"
   ]
  },
  {
   "cell_type": "code",
   "execution_count": 13,
   "id": "fe2d7d1e-091f-4895-873b-ffcac59f8baa",
   "metadata": {},
   "outputs": [],
   "source": [
    "# Verify that your terminal or command prompt can run Python.\n",
    "# Create a Python script that is error-free.\n",
    "# Use the following command to run your script from the terminal:\n",
    "#   python your/file/name.py"
   ]
  },
  {
   "cell_type": "code",
   "execution_count": 14,
   "id": "813049c7-3f3f-462d-b11e-8996637bd627",
   "metadata": {},
   "outputs": [],
   "source": [
    "# Q5. Given a list my_list = [1, 2, 3, 4, 5], write the code to slice the list and obtain the sub-list [2, 3]."
   ]
  },
  {
   "cell_type": "code",
   "execution_count": 15,
   "id": "96448af4-e9f7-4af2-bf43-f01fbac8718f",
   "metadata": {},
   "outputs": [],
   "source": [
    "# Answer"
   ]
  },
  {
   "cell_type": "code",
   "execution_count": 16,
   "id": "a6861c53-06b1-44ca-9e98-e3df29c324ee",
   "metadata": {},
   "outputs": [],
   "source": [
    "my_list = [1,2,3,4,5]"
   ]
  },
  {
   "cell_type": "code",
   "execution_count": 17,
   "id": "33728d6b-e965-4ac9-9976-1a6f6d9dd1f6",
   "metadata": {},
   "outputs": [
    {
     "data": {
      "text/plain": [
       "[2, 3]"
      ]
     },
     "execution_count": 17,
     "metadata": {},
     "output_type": "execute_result"
    }
   ],
   "source": [
    "my_list[1:3]"
   ]
  },
  {
   "cell_type": "code",
   "execution_count": 18,
   "id": "6aa0abd3-bedd-4902-9645-31d21cfa5bb0",
   "metadata": {},
   "outputs": [],
   "source": [
    "# Q6. What is a complex number in mathematics, and how is it represented in Python?"
   ]
  },
  {
   "cell_type": "code",
   "execution_count": 19,
   "id": "7e26441a-f3d4-470a-ad3b-b979a670dcce",
   "metadata": {},
   "outputs": [],
   "source": [
    "# Answer"
   ]
  },
  {
   "cell_type": "code",
   "execution_count": 20,
   "id": "5ae758b1-df53-4a44-9952-b92ce1b44af5",
   "metadata": {},
   "outputs": [],
   "source": [
    "# A complex number is a number that has two parts: a real number and an imaginary number. \n",
    "# In mathematics, it is usually represented by z and can be written as a + ib, where a and b are real numbers and i is the imaginary unit.\n",
    "# In python, we can represent complex numbers by using the letter j instead of i. Ex:- 3+5j, 32+45j"
   ]
  },
  {
   "cell_type": "code",
   "execution_count": 21,
   "id": "c20d5b13-5e1a-456b-95a6-e76530bf0525",
   "metadata": {},
   "outputs": [],
   "source": [
    "# Q7. What is the correct way to declare a variable named age and assign the value 25 to it?"
   ]
  },
  {
   "cell_type": "code",
   "execution_count": 22,
   "id": "9d07924c-a5cb-4417-9e9e-32c3a93e5772",
   "metadata": {},
   "outputs": [],
   "source": [
    "# Answer"
   ]
  },
  {
   "cell_type": "code",
   "execution_count": 23,
   "id": "44bde843-e3de-457d-a99c-a1ceb7e60032",
   "metadata": {},
   "outputs": [],
   "source": [
    "age = 25"
   ]
  },
  {
   "cell_type": "code",
   "execution_count": 24,
   "id": "126ddf6b-f147-479e-9244-a3d644316db0",
   "metadata": {},
   "outputs": [
    {
     "name": "stdout",
     "output_type": "stream",
     "text": [
      "25\n"
     ]
    }
   ],
   "source": [
    "print(age)"
   ]
  },
  {
   "cell_type": "code",
   "execution_count": 25,
   "id": "671019b6-7cc4-46e9-a20e-3dd6b393e805",
   "metadata": {},
   "outputs": [],
   "source": [
    "# Q8. Declare a variable named price and assign the value 9.99 to it. What data type does this variable belong to?"
   ]
  },
  {
   "cell_type": "code",
   "execution_count": 26,
   "id": "0f31a02d-3053-4f54-8382-63c540587fed",
   "metadata": {},
   "outputs": [],
   "source": [
    "# Answer"
   ]
  },
  {
   "cell_type": "code",
   "execution_count": 27,
   "id": "d2ea5626-9cba-4e0f-aa23-8fe30a91411a",
   "metadata": {},
   "outputs": [],
   "source": [
    "price = 9.99"
   ]
  },
  {
   "cell_type": "code",
   "execution_count": 28,
   "id": "14309196-3685-4c7d-bd16-0134462c38e3",
   "metadata": {},
   "outputs": [
    {
     "data": {
      "text/plain": [
       "float"
      ]
     },
     "execution_count": 28,
     "metadata": {},
     "output_type": "execute_result"
    }
   ],
   "source": [
    "type(price)"
   ]
  },
  {
   "cell_type": "code",
   "execution_count": 29,
   "id": "daea1b88-084b-4fc1-81f2-d9248762a30b",
   "metadata": {},
   "outputs": [],
   "source": [
    "# Q9. Create a variable named name and assign your full name to it as a string. How would you print the value of this variable?"
   ]
  },
  {
   "cell_type": "code",
   "execution_count": 30,
   "id": "f3e9f3d3-43a9-4961-983e-17d7b45ec102",
   "metadata": {},
   "outputs": [],
   "source": [
    "# Answer"
   ]
  },
  {
   "cell_type": "code",
   "execution_count": 31,
   "id": "ec06ac1c-37ed-4046-bcf4-49df7f4ca85b",
   "metadata": {},
   "outputs": [],
   "source": [
    "name = \"Anand Kumar\""
   ]
  },
  {
   "cell_type": "code",
   "execution_count": 32,
   "id": "56b6d709-0ada-41e9-9e27-b2ca14fca7b3",
   "metadata": {},
   "outputs": [
    {
     "name": "stdout",
     "output_type": "stream",
     "text": [
      "Anand Kumar\n"
     ]
    }
   ],
   "source": [
    "print(name)"
   ]
  },
  {
   "cell_type": "code",
   "execution_count": 33,
   "id": "f92ecf4c-48b0-4c01-bc88-4172f310d705",
   "metadata": {},
   "outputs": [
    {
     "data": {
      "text/plain": [
       "str"
      ]
     },
     "execution_count": 33,
     "metadata": {},
     "output_type": "execute_result"
    }
   ],
   "source": [
    "type(name)"
   ]
  },
  {
   "cell_type": "code",
   "execution_count": 34,
   "id": "aba47358-140d-4ced-b720-9e4b6b172422",
   "metadata": {},
   "outputs": [],
   "source": [
    "# Q10. Given the string \"Hello, World!\", extract the substring \"World\"."
   ]
  },
  {
   "cell_type": "code",
   "execution_count": 35,
   "id": "fd481729-41ca-452f-84db-86378fff2df3",
   "metadata": {},
   "outputs": [],
   "source": [
    "# Answer"
   ]
  },
  {
   "cell_type": "code",
   "execution_count": 36,
   "id": "23ad0ee4-9a92-489e-a7f4-a3bd083d3c78",
   "metadata": {},
   "outputs": [],
   "source": [
    "a = \"Hello, World!\""
   ]
  },
  {
   "cell_type": "code",
   "execution_count": 37,
   "id": "3529ba66-27fe-4a76-bcbb-74e1499ed60e",
   "metadata": {},
   "outputs": [
    {
     "data": {
      "text/plain": [
       "str"
      ]
     },
     "execution_count": 37,
     "metadata": {},
     "output_type": "execute_result"
    }
   ],
   "source": [
    "type(a)"
   ]
  },
  {
   "cell_type": "code",
   "execution_count": 38,
   "id": "23847988-6c3d-4220-9c6b-f2966ac11ad0",
   "metadata": {},
   "outputs": [
    {
     "data": {
      "text/plain": [
       "'World'"
      ]
     },
     "execution_count": 38,
     "metadata": {},
     "output_type": "execute_result"
    }
   ],
   "source": [
    "a[7:12]"
   ]
  },
  {
   "cell_type": "code",
   "execution_count": 39,
   "id": "9b4fef20-a74d-45cf-89b2-66d3f338c66e",
   "metadata": {},
   "outputs": [],
   "source": [
    "# Q11. Create a variable named \"is_student\" and assign it a boolean value indicating whether you are currently a student or not."
   ]
  },
  {
   "cell_type": "code",
   "execution_count": 40,
   "id": "52a8b4a5-7f91-4e78-9a03-32bbb9817397",
   "metadata": {},
   "outputs": [],
   "source": [
    "# Answer"
   ]
  },
  {
   "cell_type": "code",
   "execution_count": 41,
   "id": "c9742511-a440-47b2-9082-b3f1d97fd075",
   "metadata": {},
   "outputs": [],
   "source": [
    "is_student = False"
   ]
  },
  {
   "cell_type": "code",
   "execution_count": null,
   "id": "27485804-487d-438a-98e1-55c0cb660f24",
   "metadata": {},
   "outputs": [],
   "source": []
  }
 ],
 "metadata": {
  "kernelspec": {
   "display_name": "Python 3 (ipykernel)",
   "language": "python",
   "name": "python3"
  },
  "language_info": {
   "codemirror_mode": {
    "name": "ipython",
    "version": 3
   },
   "file_extension": ".py",
   "mimetype": "text/x-python",
   "name": "python",
   "nbconvert_exporter": "python",
   "pygments_lexer": "ipython3",
   "version": "3.10.8"
  }
 },
 "nbformat": 4,
 "nbformat_minor": 5
}
