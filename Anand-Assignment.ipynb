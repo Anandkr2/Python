{
 "cells": [
  {
   "cell_type": "code",
   "execution_count": 1,
   "id": "a02c5675-719d-445e-b36b-fdc867f72173",
   "metadata": {},
   "outputs": [],
   "source": [
    "#Q1. Create one variable containing following type of data:\n",
    "\n",
    "#(i)\tstring\n",
    "\n",
    "#(ii)\tlist\n",
    "\n",
    "#(iii)\tfloat\n",
    "\n",
    "#(iv)\ttuple"
   ]
  },
  {
   "cell_type": "code",
   "execution_count": 2,
   "id": "d3a44db2-9078-4c63-85b2-7651a58cea92",
   "metadata": {},
   "outputs": [],
   "source": [
    "# Answer"
   ]
  },
  {
   "cell_type": "code",
   "execution_count": 3,
   "id": "2c971d26-f253-4d71-9838-cf81799cabc2",
   "metadata": {},
   "outputs": [],
   "source": [
    "a = 'i am student of pwskills'"
   ]
  },
  {
   "cell_type": "code",
   "execution_count": 4,
   "id": "63a39b97-1017-48a1-ac7f-a363c8181ede",
   "metadata": {},
   "outputs": [],
   "source": [
    "b = [2,3,4,True,False,56.87,'anand',4+9j]"
   ]
  },
  {
   "cell_type": "code",
   "execution_count": 5,
   "id": "f3e4a1fb-1ea0-401b-b1c7-78c391023fbe",
   "metadata": {},
   "outputs": [],
   "source": [
    "c = 45.98"
   ]
  },
  {
   "cell_type": "code",
   "execution_count": 6,
   "id": "0c39c6d9-5626-4825-934d-620c3d5989f1",
   "metadata": {},
   "outputs": [],
   "source": [
    "d = (4, 'anand', 5.7, 6+3j)"
   ]
  },
  {
   "cell_type": "code",
   "execution_count": null,
   "id": "d0055bab-2e4a-4a72-9e4f-766e177a4fd1",
   "metadata": {},
   "outputs": [],
   "source": []
  },
  {
   "cell_type": "code",
   "execution_count": 7,
   "id": "0b2e1ef2-bf07-4583-a1cb-996b7daf4594",
   "metadata": {},
   "outputs": [
    {
     "name": "stdout",
     "output_type": "stream",
     "text": [
      "<class 'str'> <class 'list'> <class 'float'> <class 'tuple'>\n"
     ]
    }
   ],
   "source": [
    "print(type(a),type(b),type(c),type(d))"
   ]
  },
  {
   "cell_type": "code",
   "execution_count": null,
   "id": "10fd7c3e-29bb-4662-8d69-ecc7525f562e",
   "metadata": {},
   "outputs": [],
   "source": []
  },
  {
   "cell_type": "code",
   "execution_count": 8,
   "id": "8e23ccf2-9fe9-410a-9d36-61407c42a1a3",
   "metadata": {},
   "outputs": [],
   "source": [
    "#Q2. Given are some following variables containing data:\n",
    "\n",
    "#(i)\tvar1 = ‘ ‘\n",
    "\n",
    "#(ii)\tvar2 = ‘[ DS , ML , Python]’\n",
    "\n",
    "#(iii)\tvar3 = [ ‘DS’ , ’ML’ , ‘Python’ ]\n",
    "\n",
    "#(iv)\tvar4 = 1.\n",
    "\n",
    "\n",
    "#What will be the data type of the above given variable."
   ]
  },
  {
   "cell_type": "code",
   "execution_count": 9,
   "id": "eab51c7c-a6da-415f-a1b4-91ccbffb73bf",
   "metadata": {},
   "outputs": [],
   "source": [
    "# Answer"
   ]
  },
  {
   "cell_type": "code",
   "execution_count": 10,
   "id": "bfcea0b9-ba2a-4242-b70e-19c2c00e3900",
   "metadata": {},
   "outputs": [],
   "source": [
    "# (1) string"
   ]
  },
  {
   "cell_type": "code",
   "execution_count": 11,
   "id": "ef294b38-7a92-4bb6-a8da-b784ed6d99c3",
   "metadata": {},
   "outputs": [],
   "source": [
    "# (2) string"
   ]
  },
  {
   "cell_type": "code",
   "execution_count": 12,
   "id": "a2f7fd2e-a6f1-4c8c-9ce6-a708297066b0",
   "metadata": {},
   "outputs": [],
   "source": [
    "# (3) list"
   ]
  },
  {
   "cell_type": "code",
   "execution_count": 13,
   "id": "f81b3505-1d0b-40ed-a974-1468314edad0",
   "metadata": {},
   "outputs": [],
   "source": [
    "# (4) float"
   ]
  },
  {
   "cell_type": "code",
   "execution_count": null,
   "id": "932e1df0-b0fa-498f-a533-3c99f3ce64f7",
   "metadata": {},
   "outputs": [],
   "source": []
  },
  {
   "cell_type": "code",
   "execution_count": null,
   "id": "a15765b6-fc8f-45c2-9c3d-9d9329b846fa",
   "metadata": {},
   "outputs": [],
   "source": [
    "# Q3. Explain the use of the following operators using an example:\n",
    "\n",
    "#(i)\t/\n",
    "\n",
    "#(ii)\t% \n",
    "\n",
    "#(iii)\t//\n",
    "\n",
    "#(iv)\t**"
   ]
  },
  {
   "cell_type": "code",
   "execution_count": 1,
   "id": "5bb16516-4732-4a1d-b5df-e78eb88c9b76",
   "metadata": {},
   "outputs": [],
   "source": [
    "# Answer"
   ]
  },
  {
   "cell_type": "code",
   "execution_count": 2,
   "id": "794947f5-0eec-4be7-a8e5-803118281e21",
   "metadata": {},
   "outputs": [],
   "source": [
    "# (1) /, It gives the Quotient in the output."
   ]
  },
  {
   "cell_type": "code",
   "execution_count": 3,
   "id": "38dedce7-00ba-442d-97b9-f3aa9ce64976",
   "metadata": {},
   "outputs": [
    {
     "data": {
      "text/plain": [
       "3.0"
      ]
     },
     "execution_count": 3,
     "metadata": {},
     "output_type": "execute_result"
    }
   ],
   "source": [
    "6/2"
   ]
  },
  {
   "cell_type": "code",
   "execution_count": 4,
   "id": "03946166-1f32-46c5-bb5d-960133dadad3",
   "metadata": {},
   "outputs": [],
   "source": [
    "# (2) %, It gives the remainder"
   ]
  },
  {
   "cell_type": "code",
   "execution_count": 5,
   "id": "b4a979e3-290b-4f27-a4b0-7cea933d9f0d",
   "metadata": {},
   "outputs": [
    {
     "data": {
      "text/plain": [
       "1"
      ]
     },
     "execution_count": 5,
     "metadata": {},
     "output_type": "execute_result"
    }
   ],
   "source": [
    "7 % 3"
   ]
  },
  {
   "cell_type": "code",
   "execution_count": 6,
   "id": "7d91be01-4f00-4ec9-99f2-f76156de3e60",
   "metadata": {},
   "outputs": [],
   "source": [
    "# (3) //, It gives the qoutient by making it to equivalent integer"
   ]
  },
  {
   "cell_type": "code",
   "execution_count": 7,
   "id": "f32f6369-0d4b-425b-9ff8-9f86eaa617b8",
   "metadata": {},
   "outputs": [
    {
     "data": {
      "text/plain": [
       "2"
      ]
     },
     "execution_count": 7,
     "metadata": {},
     "output_type": "execute_result"
    }
   ],
   "source": [
    "8 // 4"
   ]
  },
  {
   "cell_type": "code",
   "execution_count": 8,
   "id": "42a3a2c5-549d-494a-9ca6-d57f2d0cc8d6",
   "metadata": {},
   "outputs": [],
   "source": [
    "# (4) **, It is a exponential operator, which takes the right hand side value to the power of the left hand side value"
   ]
  },
  {
   "cell_type": "code",
   "execution_count": 10,
   "id": "e9f28c60-6146-4db9-9dd0-2a634c246ff5",
   "metadata": {},
   "outputs": [
    {
     "data": {
      "text/plain": [
       "3125"
      ]
     },
     "execution_count": 10,
     "metadata": {},
     "output_type": "execute_result"
    }
   ],
   "source": [
    "5**5"
   ]
  },
  {
   "cell_type": "code",
   "execution_count": null,
   "id": "400305b8-01e3-42e0-88f9-0545a8377e58",
   "metadata": {},
   "outputs": [],
   "source": []
  },
  {
   "cell_type": "code",
   "execution_count": 11,
   "id": "c754a370-3d66-4dc7-aa5d-7c124facafc6",
   "metadata": {},
   "outputs": [],
   "source": [
    "# Q4. Create a list of length 10 of your choice containing multiple types of data. Using for loop print the element and its type. "
   ]
  },
  {
   "cell_type": "code",
   "execution_count": 12,
   "id": "9f754bab-93d1-4966-ba32-fefa425f13dd",
   "metadata": {},
   "outputs": [],
   "source": [
    "a = [2,3,5.8,'anand',5+7j,True,False,19,'pwskills',74+8j]"
   ]
  },
  {
   "cell_type": "code",
   "execution_count": 14,
   "id": "88518010-5d30-4765-a96a-5e2eeca7fc96",
   "metadata": {},
   "outputs": [
    {
     "name": "stdout",
     "output_type": "stream",
     "text": [
      "2 <class 'int'>\n",
      "3 <class 'int'>\n",
      "5.8 <class 'float'>\n",
      "anand <class 'str'>\n",
      "(5+7j) <class 'complex'>\n",
      "True <class 'bool'>\n",
      "False <class 'bool'>\n",
      "19 <class 'int'>\n",
      "pwskills <class 'str'>\n",
      "(74+8j) <class 'complex'>\n"
     ]
    }
   ],
   "source": [
    "for i in a :\n",
    "    print(i,type(i))"
   ]
  },
  {
   "cell_type": "code",
   "execution_count": null,
   "id": "d850fe3a-493f-4107-a378-1a13cbe17619",
   "metadata": {},
   "outputs": [],
   "source": []
  },
  {
   "cell_type": "code",
   "execution_count": 15,
   "id": "4ed02ea7-2c6a-40a8-8c22-45f598dce27d",
   "metadata": {},
   "outputs": [],
   "source": [
    "# Q5. Using a while loop, verify if the number A is purely divisible by number B and if so then how many time it can be divisible. "
   ]
  },
  {
   "cell_type": "code",
   "execution_count": 16,
   "id": "19e6c798-93b6-472b-bbed-e8a145d11efc",
   "metadata": {},
   "outputs": [],
   "source": [
    "# Answer"
   ]
  },
  {
   "cell_type": "code",
   "execution_count": 17,
   "id": "84d923a6-3ea1-4bd8-9392-17ec56578ff5",
   "metadata": {},
   "outputs": [
    {
     "name": "stdout",
     "output_type": "stream",
     "text": [
      "A is divisible by B 2 times\n"
     ]
    }
   ],
   "source": [
    "A = 100\n",
    "B = 5\n",
    "count = 0\n",
    "\n",
    "while A % B == 0:\n",
    "    count += 1\n",
    "    A /= B\n",
    "\n",
    "print(\"A is divisible by B\", count, \"times\")"
   ]
  },
  {
   "cell_type": "code",
   "execution_count": 18,
   "id": "73d44e20-b5e2-45b8-8588-315e447dd2ee",
   "metadata": {},
   "outputs": [],
   "source": [
    "#Q6. Create a list containing 25 int type data. Using for loop and if-else condition print if the element is divisible by 3 or not. "
   ]
  },
  {
   "cell_type": "code",
   "execution_count": 19,
   "id": "465de443-2e5b-450f-a84e-bc26285fca5a",
   "metadata": {},
   "outputs": [],
   "source": [
    "a=[1,2,3,4,5,6,7,8,9,10,11,12,13,14,15,16,17,18,19,20,21,22,23,24,25]"
   ]
  },
  {
   "cell_type": "code",
   "execution_count": 20,
   "id": "c6d063bf-32c0-4ac7-b9f4-d7d09c9ca914",
   "metadata": {},
   "outputs": [
    {
     "data": {
      "text/plain": [
       "list"
      ]
     },
     "execution_count": 20,
     "metadata": {},
     "output_type": "execute_result"
    }
   ],
   "source": [
    "type(a)"
   ]
  },
  {
   "cell_type": "code",
   "execution_count": 21,
   "id": "11fd79f9-1ec1-4665-93c3-acc46cc7eb03",
   "metadata": {},
   "outputs": [
    {
     "name": "stdout",
     "output_type": "stream",
     "text": [
      "1 is not divisible by 3\n",
      "2 is not divisible by 3\n",
      "3 is divisible by 3\n",
      "4 is not divisible by 3\n",
      "5 is not divisible by 3\n",
      "6 is divisible by 3\n",
      "7 is not divisible by 3\n",
      "8 is not divisible by 3\n",
      "9 is divisible by 3\n",
      "10 is not divisible by 3\n",
      "11 is not divisible by 3\n",
      "12 is divisible by 3\n",
      "13 is not divisible by 3\n",
      "14 is not divisible by 3\n",
      "15 is divisible by 3\n",
      "16 is not divisible by 3\n",
      "17 is not divisible by 3\n",
      "18 is divisible by 3\n",
      "19 is not divisible by 3\n",
      "20 is not divisible by 3\n",
      "21 is divisible by 3\n",
      "22 is not divisible by 3\n",
      "23 is not divisible by 3\n",
      "24 is divisible by 3\n",
      "25 is not divisible by 3\n"
     ]
    }
   ],
   "source": [
    "for i in a :\n",
    "    if i%3==0:\n",
    "        print(i,'is divisible by 3')\n",
    "    else:\n",
    "        print(i,'is not divisible by 3')"
   ]
  },
  {
   "cell_type": "code",
   "execution_count": null,
   "id": "059d83c7-c3d2-4f46-a1ce-60233c95ea1a",
   "metadata": {},
   "outputs": [],
   "source": []
  },
  {
   "cell_type": "code",
   "execution_count": 22,
   "id": "ff309ce4-b0f6-427f-9bee-d8aef789c907",
   "metadata": {},
   "outputs": [],
   "source": [
    "#Q7. What do you understand about mutable and immutable data types? Give examples for both showing this property."
   ]
  },
  {
   "cell_type": "code",
   "execution_count": 23,
   "id": "49c952b5-678f-43cb-aa8d-da4095ea581a",
   "metadata": {},
   "outputs": [],
   "source": [
    "# Immutable date type: A data type which cannot be eddited, which means we cannot do any changes in terms of adding, removing, replacing with the help of index value."
   ]
  },
  {
   "cell_type": "code",
   "execution_count": 24,
   "id": "fe8faba2-17e2-4d9c-80fa-6490774b6587",
   "metadata": {},
   "outputs": [],
   "source": [
    "a = 'anand,3,4'"
   ]
  },
  {
   "cell_type": "code",
   "execution_count": 25,
   "id": "1c5a160a-6283-4a6d-93dc-8ea0d6e36c0a",
   "metadata": {},
   "outputs": [
    {
     "data": {
      "text/plain": [
       "str"
      ]
     },
     "execution_count": 25,
     "metadata": {},
     "output_type": "execute_result"
    }
   ],
   "source": [
    "type(a)"
   ]
  },
  {
   "cell_type": "code",
   "execution_count": 26,
   "id": "96550113-646d-43eb-9769-c10755c4fbbf",
   "metadata": {},
   "outputs": [
    {
     "ename": "NameError",
     "evalue": "name 'p' is not defined",
     "output_type": "error",
     "traceback": [
      "\u001b[0;31m---------------------------------------------------------------------------\u001b[0m",
      "\u001b[0;31mNameError\u001b[0m                                 Traceback (most recent call last)",
      "Cell \u001b[0;32mIn[26], line 1\u001b[0m\n\u001b[0;32m----> 1\u001b[0m a[\u001b[38;5;241m0\u001b[39m]\u001b[38;5;241m=\u001b[39m\u001b[43mp\u001b[49m\n",
      "\u001b[0;31mNameError\u001b[0m: name 'p' is not defined"
     ]
    }
   ],
   "source": [
    "a[0]=p"
   ]
  },
  {
   "cell_type": "code",
   "execution_count": 27,
   "id": "4f49b9fb-b801-44df-8085-f11a26655163",
   "metadata": {},
   "outputs": [],
   "source": [
    "# Mutable data type: A data type which can be eddited, which means we can do any changes in terms of adding, removing, replacing with the help of index value."
   ]
  },
  {
   "cell_type": "code",
   "execution_count": null,
   "id": "c90773b5-ce2b-41b1-80e8-48f83b643a8c",
   "metadata": {},
   "outputs": [],
   "source": [
    "b = []"
   ]
  }
 ],
 "metadata": {
  "kernelspec": {
   "display_name": "Python 3 (ipykernel)",
   "language": "python",
   "name": "python3"
  },
  "language_info": {
   "codemirror_mode": {
    "name": "ipython",
    "version": 3
   },
   "file_extension": ".py",
   "mimetype": "text/x-python",
   "name": "python",
   "nbconvert_exporter": "python",
   "pygments_lexer": "ipython3",
   "version": "3.10.8"
  }
 },
 "nbformat": 4,
 "nbformat_minor": 5
}
